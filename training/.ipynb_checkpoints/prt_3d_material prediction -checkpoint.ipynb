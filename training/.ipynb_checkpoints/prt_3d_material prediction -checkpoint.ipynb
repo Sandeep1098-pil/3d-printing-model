{
 "cells": [
  {
   "cell_type": "markdown",
   "id": "647f53ea",
   "metadata": {},
   "source": [
    "### Importing Libraries\n"
   ]
  },
  {
   "cell_type": "code",
   "execution_count": 35,
   "id": "8a7d30f6",
   "metadata": {
    "ExecuteTime": {
     "end_time": "2025-10-13T07:58:42.615155Z",
     "start_time": "2025-10-13T07:58:37.204028Z"
    }
   },
   "outputs": [],
   "source": [
    "import pandas as pd\n",
    "import numpy as np\n",
    "from matplotlib import pyplot as plt\n",
    "from sklearn.preprocessing import LabelEncoder\n",
    "import seaborn as sns\n",
    "from sklearn.model_selection import train_test_split\n",
    "from sklearn.ensemble import RandomForestClassifier\n",
    "from sklearn.metrics import classification_report, accuracy_score, confusion_matrix, roc_auc_score, f1_score,precision_score, recall_score\n",
    "from sklearn.model_selection import cross_val_score\n",
    "from sklearn.preprocessing import MinMaxScaler\n",
    "from sklearn.model_selection import RandomizedSearchCV,GridSearchCV\n",
    "from sklearn.model_selection import StratifiedKFold\n",
    "from sklearn.linear_model import LogisticRegression\n",
    "from sklearn.tree import DecisionTreeClassifier\n",
    "\n",
    "import warnings\n",
    "warnings.filterwarnings(\"ignore\")"
   ]
  },
  {
   "cell_type": "markdown",
   "id": "9c4831d2",
   "metadata": {},
   "source": [
    "### Data collection"
   ]
  },
  {
   "cell_type": "code",
   "execution_count": 36,
   "id": "f77d226d",
   "metadata": {
    "ExecuteTime": {
     "end_time": "2025-10-13T07:53:10.224617100Z",
     "start_time": "2025-10-13T07:43:14.782509Z"
    }
   },
   "outputs": [],
   "source": [
    "datapath = r\"C:\\Users\\USER\\3d-printing-model\\dataset\\dataset.csv\"\n",
    "DataFrame= pd.read_csv(datapath)"
   ]
  },
  {
   "cell_type": "code",
   "execution_count": 37,
   "id": "8a7400bd",
   "metadata": {
    "ExecuteTime": {
     "end_time": "2025-10-13T07:53:10.228713Z",
     "start_time": "2025-10-13T07:31:02.876350Z"
    },
    "scrolled": true
   },
   "outputs": [
    {
     "name": "stdout",
     "output_type": "stream",
     "text": [
      "DataFrame loaded successfully.\n"
     ]
    },
    {
     "data": {
      "text/html": [
       "<div>\n",
       "<style scoped>\n",
       "    .dataframe tbody tr th:only-of-type {\n",
       "        vertical-align: middle;\n",
       "    }\n",
       "\n",
       "    .dataframe tbody tr th {\n",
       "        vertical-align: top;\n",
       "    }\n",
       "\n",
       "    .dataframe thead th {\n",
       "        text-align: right;\n",
       "    }\n",
       "</style>\n",
       "<table border=\"1\" class=\"dataframe\">\n",
       "  <thead>\n",
       "    <tr style=\"text-align: right;\">\n",
       "      <th></th>\n",
       "      <th>layer_height</th>\n",
       "      <th>wall_thickness</th>\n",
       "      <th>infill_density</th>\n",
       "      <th>infill_pattern</th>\n",
       "      <th>nozzle_temperature</th>\n",
       "      <th>bed_temperature</th>\n",
       "      <th>print_speed</th>\n",
       "      <th>material</th>\n",
       "      <th>fan_speed</th>\n",
       "      <th>roughness</th>\n",
       "      <th>tension_strenght</th>\n",
       "      <th>elongation</th>\n",
       "    </tr>\n",
       "  </thead>\n",
       "  <tbody>\n",
       "    <tr>\n",
       "      <th>0</th>\n",
       "      <td>0.02</td>\n",
       "      <td>8.0</td>\n",
       "      <td>90</td>\n",
       "      <td>grid</td>\n",
       "      <td>220</td>\n",
       "      <td>60</td>\n",
       "      <td>40</td>\n",
       "      <td>abs</td>\n",
       "      <td>0</td>\n",
       "      <td>25</td>\n",
       "      <td>18</td>\n",
       "      <td>1.2</td>\n",
       "    </tr>\n",
       "    <tr>\n",
       "      <th>1</th>\n",
       "      <td>0.02</td>\n",
       "      <td>7.0</td>\n",
       "      <td>90</td>\n",
       "      <td>honeycomb</td>\n",
       "      <td>225</td>\n",
       "      <td>65</td>\n",
       "      <td>40</td>\n",
       "      <td>abs</td>\n",
       "      <td>25</td>\n",
       "      <td>32</td>\n",
       "      <td>16</td>\n",
       "      <td>1.4</td>\n",
       "    </tr>\n",
       "    <tr>\n",
       "      <th>2</th>\n",
       "      <td>0.02</td>\n",
       "      <td>1.0</td>\n",
       "      <td>80</td>\n",
       "      <td>grid</td>\n",
       "      <td>230</td>\n",
       "      <td>70</td>\n",
       "      <td>40</td>\n",
       "      <td>abs</td>\n",
       "      <td>50</td>\n",
       "      <td>40</td>\n",
       "      <td>8</td>\n",
       "      <td>0.8</td>\n",
       "    </tr>\n",
       "    <tr>\n",
       "      <th>3</th>\n",
       "      <td>0.02</td>\n",
       "      <td>4.0</td>\n",
       "      <td>70</td>\n",
       "      <td>honeycomb</td>\n",
       "      <td>240</td>\n",
       "      <td>75</td>\n",
       "      <td>40</td>\n",
       "      <td>abs</td>\n",
       "      <td>75</td>\n",
       "      <td>68</td>\n",
       "      <td>10</td>\n",
       "      <td>0.5</td>\n",
       "    </tr>\n",
       "    <tr>\n",
       "      <th>4</th>\n",
       "      <td>0.02</td>\n",
       "      <td>6.0</td>\n",
       "      <td>90</td>\n",
       "      <td>grid</td>\n",
       "      <td>250</td>\n",
       "      <td>80</td>\n",
       "      <td>40</td>\n",
       "      <td>abs</td>\n",
       "      <td>100</td>\n",
       "      <td>92</td>\n",
       "      <td>5</td>\n",
       "      <td>0.7</td>\n",
       "    </tr>\n",
       "    <tr>\n",
       "      <th>...</th>\n",
       "      <td>...</td>\n",
       "      <td>...</td>\n",
       "      <td>...</td>\n",
       "      <td>...</td>\n",
       "      <td>...</td>\n",
       "      <td>...</td>\n",
       "      <td>...</td>\n",
       "      <td>...</td>\n",
       "      <td>...</td>\n",
       "      <td>...</td>\n",
       "      <td>...</td>\n",
       "      <td>...</td>\n",
       "    </tr>\n",
       "    <tr>\n",
       "      <th>61</th>\n",
       "      <td>0.06</td>\n",
       "      <td>9.0</td>\n",
       "      <td>10</td>\n",
       "      <td>honeycomb</td>\n",
       "      <td>200</td>\n",
       "      <td>75</td>\n",
       "      <td>80</td>\n",
       "      <td>abs</td>\n",
       "      <td>75</td>\n",
       "      <td>200</td>\n",
       "      <td>9</td>\n",
       "      <td>0.9</td>\n",
       "    </tr>\n",
       "    <tr>\n",
       "      <th>62</th>\n",
       "      <td>0.04</td>\n",
       "      <td>2.0</td>\n",
       "      <td>80</td>\n",
       "      <td>grid</td>\n",
       "      <td>230</td>\n",
       "      <td>70</td>\n",
       "      <td>40</td>\n",
       "      <td>abs</td>\n",
       "      <td>50</td>\n",
       "      <td>40</td>\n",
       "      <td>12</td>\n",
       "      <td>0.8</td>\n",
       "    </tr>\n",
       "    <tr>\n",
       "      <th>63</th>\n",
       "      <td>0.02</td>\n",
       "      <td>4.5</td>\n",
       "      <td>70</td>\n",
       "      <td>honeycomb</td>\n",
       "      <td>240</td>\n",
       "      <td>85</td>\n",
       "      <td>40</td>\n",
       "      <td>abs</td>\n",
       "      <td>75</td>\n",
       "      <td>68</td>\n",
       "      <td>10</td>\n",
       "      <td>0.8</td>\n",
       "    </tr>\n",
       "    <tr>\n",
       "      <th>64</th>\n",
       "      <td>0.05</td>\n",
       "      <td>6.0</td>\n",
       "      <td>10</td>\n",
       "      <td>honeycomb</td>\n",
       "      <td>245</td>\n",
       "      <td>75</td>\n",
       "      <td>85</td>\n",
       "      <td>abs</td>\n",
       "      <td>75</td>\n",
       "      <td>205</td>\n",
       "      <td>5</td>\n",
       "      <td>0.5</td>\n",
       "    </tr>\n",
       "    <tr>\n",
       "      <th>65</th>\n",
       "      <td>0.15</td>\n",
       "      <td>1.0</td>\n",
       "      <td>50</td>\n",
       "      <td>grid</td>\n",
       "      <td>220</td>\n",
       "      <td>60</td>\n",
       "      <td>120</td>\n",
       "      <td>abs</td>\n",
       "      <td>0</td>\n",
       "      <td>120</td>\n",
       "      <td>16</td>\n",
       "      <td>1.5</td>\n",
       "    </tr>\n",
       "  </tbody>\n",
       "</table>\n",
       "<p>66 rows × 12 columns</p>\n",
       "</div>"
      ],
      "text/plain": [
       "    layer_height  wall_thickness  infill_density infill_pattern  \\\n",
       "0           0.02             8.0              90           grid   \n",
       "1           0.02             7.0              90      honeycomb   \n",
       "2           0.02             1.0              80           grid   \n",
       "3           0.02             4.0              70      honeycomb   \n",
       "4           0.02             6.0              90           grid   \n",
       "..           ...             ...             ...            ...   \n",
       "61          0.06             9.0              10      honeycomb   \n",
       "62          0.04             2.0              80           grid   \n",
       "63          0.02             4.5              70      honeycomb   \n",
       "64          0.05             6.0              10      honeycomb   \n",
       "65          0.15             1.0              50           grid   \n",
       "\n",
       "    nozzle_temperature  bed_temperature  print_speed material  fan_speed  \\\n",
       "0                  220               60           40      abs          0   \n",
       "1                  225               65           40      abs         25   \n",
       "2                  230               70           40      abs         50   \n",
       "3                  240               75           40      abs         75   \n",
       "4                  250               80           40      abs        100   \n",
       "..                 ...              ...          ...      ...        ...   \n",
       "61                 200               75           80      abs         75   \n",
       "62                 230               70           40      abs         50   \n",
       "63                 240               85           40      abs         75   \n",
       "64                 245               75           85      abs         75   \n",
       "65                 220               60          120      abs          0   \n",
       "\n",
       "    roughness  tension_strenght  elongation  \n",
       "0          25                18         1.2  \n",
       "1          32                16         1.4  \n",
       "2          40                 8         0.8  \n",
       "3          68                10         0.5  \n",
       "4          92                 5         0.7  \n",
       "..        ...               ...         ...  \n",
       "61        200                 9         0.9  \n",
       "62         40                12         0.8  \n",
       "63         68                10         0.8  \n",
       "64        205                 5         0.5  \n",
       "65        120                16         1.5  \n",
       "\n",
       "[66 rows x 12 columns]"
      ]
     },
     "execution_count": 37,
     "metadata": {},
     "output_type": "execute_result"
    }
   ],
   "source": [
    "print(\"DataFrame loaded successfully.\")\n",
    "DataFrame=pd.DataFrame(DataFrame)\n",
    "DataFrame"
   ]
  },
  {
   "cell_type": "markdown",
   "id": "f0116570",
   "metadata": {},
   "source": [
    "### Analyze the Data"
   ]
  },
  {
   "cell_type": "code",
   "execution_count": 38,
   "id": "22fb1006",
   "metadata": {
    "ExecuteTime": {
     "end_time": "2025-10-13T07:53:10.228713Z",
     "start_time": "2025-10-13T07:31:03.090643Z"
    }
   },
   "outputs": [
    {
     "name": "stdout",
     "output_type": "stream",
     "text": [
      "First 5 rows of the DataFrame:\n",
      "==========================================================================================================================================================================\n",
      "  layer_height wall_thickness infill_density infill_pattern nozzle_temperature bed_temperature print_speed material fan_speed roughness tension_strenght elongation\n",
      "0         0.02            8.0             90           grid                220              60          40      abs         0        25               18        1.2\n",
      "1         0.02            7.0             90      honeycomb                225              65          40      abs        25        32               16        1.4\n",
      "2         0.02            1.0             80           grid                230              70          40      abs        50        40                8        0.8\n",
      "3         0.02            4.0             70      honeycomb                240              75          40      abs        75        68               10        0.5\n",
      "4         0.02            6.0             90           grid                250              80          40      abs       100        92                5        0.7\n",
      "==========================================================================================================================================================================\n"
     ]
    }
   ],
   "source": [
    "#printing the first 5 rows of the DataFrame\n",
    "print(\"First 5 rows of the DataFrame:\")\n",
    "first_five_rows = DataFrame.head(5)\n",
    "first_five_rows_output = pd.DataFrame(first_five_rows.values, columns=first_five_rows.columns, index=first_five_rows.index)\n",
    "print(\"=\"*170)\n",
    "print(first_five_rows_output.to_string())\n",
    "print(\"=\"*170)\n",
    "\n"
   ]
  },
  {
   "cell_type": "code",
   "execution_count": 39,
   "id": "b3c81758",
   "metadata": {
    "ExecuteTime": {
     "end_time": "2025-10-13T07:53:10.244346300Z",
     "start_time": "2025-10-13T07:31:03.139123Z"
    }
   },
   "outputs": [
    {
     "name": "stdout",
     "output_type": "stream",
     "text": [
      "Last 5 rows of the DataFrame:\n",
      "==========================================================================================================================================================================\n",
      "   layer_height wall_thickness infill_density infill_pattern nozzle_temperature bed_temperature print_speed material fan_speed roughness tension_strenght elongation\n",
      "61         0.06            9.0             10      honeycomb                200              75          80      abs        75       200                9        0.9\n",
      "62         0.04            2.0             80           grid                230              70          40      abs        50        40               12        0.8\n",
      "63         0.02            4.5             70      honeycomb                240              85          40      abs        75        68               10        0.8\n",
      "64         0.05            6.0             10      honeycomb                245              75          85      abs        75       205                5        0.5\n",
      "65         0.15            1.0             50           grid                220              60         120      abs         0       120               16        1.5\n",
      "==========================================================================================================================================================================\n"
     ]
    }
   ],
   "source": [
    "#printing the last 5 rows of the DataFrame\n",
    "print(\"Last 5 rows of the DataFrame:\")\n",
    "last_rows = DataFrame.tail(5)  \n",
    "formatted_output = pd.DataFrame(last_rows.values,  columns=last_rows.columns, index=last_rows.index)\n",
    "print(\"=\"*170)\n",
    "print(formatted_output.to_string())\n",
    "print(\"=\"*170)"
   ]
  },
  {
   "cell_type": "code",
   "execution_count": 40,
   "id": "651400bb",
   "metadata": {
    "ExecuteTime": {
     "end_time": "2025-10-13T07:53:10.244346300Z",
     "start_time": "2025-10-13T07:31:03.210196Z"
    }
   },
   "outputs": [
    {
     "name": "stdout",
     "output_type": "stream",
     "text": [
      "The shape of the DataFrame is: 12 columns\n",
      "The shape of the DataFrame is: 66 rows\n"
     ]
    }
   ],
   "source": [
    "#Shape of the DataFrame\n",
    "print(f\"The shape of the DataFrame is: {DataFrame.shape[1]} columns\")\n",
    "print(f\"The shape of the DataFrame is: {DataFrame.shape[0]} rows\")"
   ]
  },
  {
   "cell_type": "code",
   "execution_count": 41,
   "id": "0f0fab18",
   "metadata": {
    "ExecuteTime": {
     "end_time": "2025-10-13T07:53:10.244346300Z",
     "start_time": "2025-10-13T07:31:03.267036Z"
    }
   },
   "outputs": [
    {
     "name": "stdout",
     "output_type": "stream",
     "text": [
      "================================================================================\n",
      "                          DATAFRAME STRUCTURE OVERVIEW                          \n",
      "================================================================================\n",
      "<class 'pandas.core.frame.DataFrame'>\n",
      "RangeIndex: 66 entries, 0 to 65\n",
      "Data columns (total 12 columns):\n",
      " #   Column              Non-Null Count  Dtype  \n",
      "---  ------              --------------  -----  \n",
      " 0   layer_height        66 non-null     float64\n",
      " 1   wall_thickness      66 non-null     float64\n",
      " 2   infill_density      66 non-null     int64  \n",
      " 3   infill_pattern      66 non-null     object \n",
      " 4   nozzle_temperature  66 non-null     int64  \n",
      " 5   bed_temperature     66 non-null     int64  \n",
      " 6   print_speed         66 non-null     int64  \n",
      " 7   material            66 non-null     object \n",
      " 8   fan_speed           66 non-null     int64  \n",
      " 9   roughness           66 non-null     int64  \n",
      " 10  tension_strenght    66 non-null     int64  \n",
      " 11  elongation          66 non-null     float64\n",
      "dtypes: float64(3), int64(7), object(2)\n",
      "memory usage: 6.3+ KB\n",
      "None\n"
     ]
    }
   ],
   "source": [
    "#checking the info of the DataFrame\n",
    "print(\"=\"*80)\n",
    "print(\"DATAFRAME STRUCTURE OVERVIEW\".center(80))\n",
    "print(\"=\"*80)\n",
    "info_str = DataFrame.info()\n",
    "print(info_str)\n"
   ]
  },
  {
   "cell_type": "code",
   "execution_count": 42,
   "id": "d7cf0410",
   "metadata": {
    "ExecuteTime": {
     "end_time": "2025-10-13T07:53:10.244346300Z",
     "start_time": "2025-10-13T07:31:03.315235Z"
    }
   },
   "outputs": [
    {
     "name": "stdout",
     "output_type": "stream",
     "text": [
      "======================================================================================================================================================\n",
      "                                                         STATISTICAL SUMMARY OF THE DATAFRAME                                                         \n",
      "======================================================================================================================================================\n"
     ]
    },
    {
     "data": {
      "text/html": [
       "<div>\n",
       "<style scoped>\n",
       "    .dataframe tbody tr th:only-of-type {\n",
       "        vertical-align: middle;\n",
       "    }\n",
       "\n",
       "    .dataframe tbody tr th {\n",
       "        vertical-align: top;\n",
       "    }\n",
       "\n",
       "    .dataframe thead th {\n",
       "        text-align: right;\n",
       "    }\n",
       "</style>\n",
       "<table border=\"1\" class=\"dataframe\">\n",
       "  <thead>\n",
       "    <tr style=\"text-align: right;\">\n",
       "      <th></th>\n",
       "      <th>layer_height</th>\n",
       "      <th>wall_thickness</th>\n",
       "      <th>infill_density</th>\n",
       "      <th>nozzle_temperature</th>\n",
       "      <th>bed_temperature</th>\n",
       "      <th>print_speed</th>\n",
       "      <th>fan_speed</th>\n",
       "      <th>roughness</th>\n",
       "      <th>tension_strenght</th>\n",
       "      <th>elongation</th>\n",
       "    </tr>\n",
       "  </thead>\n",
       "  <tbody>\n",
       "    <tr>\n",
       "      <th>count</th>\n",
       "      <td>66.000000</td>\n",
       "      <td>66.000000</td>\n",
       "      <td>66.000000</td>\n",
       "      <td>66.000000</td>\n",
       "      <td>66.000000</td>\n",
       "      <td>66.000000</td>\n",
       "      <td>66.000000</td>\n",
       "      <td>66.000000</td>\n",
       "      <td>66.000000</td>\n",
       "      <td>66.000000</td>\n",
       "    </tr>\n",
       "    <tr>\n",
       "      <th>mean</th>\n",
       "      <td>0.098182</td>\n",
       "      <td>5.583333</td>\n",
       "      <td>54.727273</td>\n",
       "      <td>222.272727</td>\n",
       "      <td>70.378788</td>\n",
       "      <td>64.242424</td>\n",
       "      <td>48.530303</td>\n",
       "      <td>160.545455</td>\n",
       "      <td>19.757576</td>\n",
       "      <td>1.625000</td>\n",
       "    </tr>\n",
       "    <tr>\n",
       "      <th>std</th>\n",
       "      <td>0.062608</td>\n",
       "      <td>2.952943</td>\n",
       "      <td>27.545512</td>\n",
       "      <td>15.094110</td>\n",
       "      <td>8.651839</td>\n",
       "      <td>28.598580</td>\n",
       "      <td>35.834328</td>\n",
       "      <td>95.703899</td>\n",
       "      <td>9.202108</td>\n",
       "      <td>0.762498</td>\n",
       "    </tr>\n",
       "    <tr>\n",
       "      <th>min</th>\n",
       "      <td>0.020000</td>\n",
       "      <td>1.000000</td>\n",
       "      <td>10.000000</td>\n",
       "      <td>200.000000</td>\n",
       "      <td>60.000000</td>\n",
       "      <td>40.000000</td>\n",
       "      <td>0.000000</td>\n",
       "      <td>21.000000</td>\n",
       "      <td>4.000000</td>\n",
       "      <td>0.400000</td>\n",
       "    </tr>\n",
       "    <tr>\n",
       "      <th>25%</th>\n",
       "      <td>0.052500</td>\n",
       "      <td>3.000000</td>\n",
       "      <td>40.000000</td>\n",
       "      <td>210.000000</td>\n",
       "      <td>65.000000</td>\n",
       "      <td>40.000000</td>\n",
       "      <td>25.000000</td>\n",
       "      <td>78.250000</td>\n",
       "      <td>12.000000</td>\n",
       "      <td>1.025000</td>\n",
       "    </tr>\n",
       "    <tr>\n",
       "      <th>50%</th>\n",
       "      <td>0.100000</td>\n",
       "      <td>6.000000</td>\n",
       "      <td>50.000000</td>\n",
       "      <td>220.000000</td>\n",
       "      <td>70.000000</td>\n",
       "      <td>60.000000</td>\n",
       "      <td>50.000000</td>\n",
       "      <td>149.500000</td>\n",
       "      <td>18.500000</td>\n",
       "      <td>1.500000</td>\n",
       "    </tr>\n",
       "    <tr>\n",
       "      <th>75%</th>\n",
       "      <td>0.150000</td>\n",
       "      <td>8.000000</td>\n",
       "      <td>80.000000</td>\n",
       "      <td>230.000000</td>\n",
       "      <td>75.000000</td>\n",
       "      <td>60.000000</td>\n",
       "      <td>75.000000</td>\n",
       "      <td>220.000000</td>\n",
       "      <td>27.000000</td>\n",
       "      <td>2.175000</td>\n",
       "    </tr>\n",
       "    <tr>\n",
       "      <th>max</th>\n",
       "      <td>0.200000</td>\n",
       "      <td>12.000000</td>\n",
       "      <td>100.000000</td>\n",
       "      <td>250.000000</td>\n",
       "      <td>100.000000</td>\n",
       "      <td>120.000000</td>\n",
       "      <td>100.000000</td>\n",
       "      <td>368.000000</td>\n",
       "      <td>38.000000</td>\n",
       "      <td>3.300000</td>\n",
       "    </tr>\n",
       "  </tbody>\n",
       "</table>\n",
       "</div>"
      ],
      "text/plain": [
       "       layer_height  wall_thickness  infill_density  nozzle_temperature  \\\n",
       "count     66.000000       66.000000       66.000000           66.000000   \n",
       "mean       0.098182        5.583333       54.727273          222.272727   \n",
       "std        0.062608        2.952943       27.545512           15.094110   \n",
       "min        0.020000        1.000000       10.000000          200.000000   \n",
       "25%        0.052500        3.000000       40.000000          210.000000   \n",
       "50%        0.100000        6.000000       50.000000          220.000000   \n",
       "75%        0.150000        8.000000       80.000000          230.000000   \n",
       "max        0.200000       12.000000      100.000000          250.000000   \n",
       "\n",
       "       bed_temperature  print_speed   fan_speed   roughness  tension_strenght  \\\n",
       "count        66.000000    66.000000   66.000000   66.000000         66.000000   \n",
       "mean         70.378788    64.242424   48.530303  160.545455         19.757576   \n",
       "std           8.651839    28.598580   35.834328   95.703899          9.202108   \n",
       "min          60.000000    40.000000    0.000000   21.000000          4.000000   \n",
       "25%          65.000000    40.000000   25.000000   78.250000         12.000000   \n",
       "50%          70.000000    60.000000   50.000000  149.500000         18.500000   \n",
       "75%          75.000000    60.000000   75.000000  220.000000         27.000000   \n",
       "max         100.000000   120.000000  100.000000  368.000000         38.000000   \n",
       "\n",
       "       elongation  \n",
       "count   66.000000  \n",
       "mean     1.625000  \n",
       "std      0.762498  \n",
       "min      0.400000  \n",
       "25%      1.025000  \n",
       "50%      1.500000  \n",
       "75%      2.175000  \n",
       "max      3.300000  "
      ]
     },
     "execution_count": 42,
     "metadata": {},
     "output_type": "execute_result"
    }
   ],
   "source": [
    "print(\"=\"*150)\n",
    "print(\"STATISTICAL SUMMARY OF THE DATAFRAME\".center(150))\n",
    "print(\"=\"*150)\n",
    "summary = DataFrame.describe()\n",
    "summary"
   ]
  },
  {
   "cell_type": "code",
   "execution_count": null,
   "id": "ac315ea3",
   "metadata": {
    "ExecuteTime": {
     "end_time": "2025-10-13T07:53:10.271170700Z",
     "start_time": "2025-10-13T07:31:03.417556Z"
    }
   },
   "outputs": [],
   "source": []
  },
  {
   "cell_type": "markdown",
   "id": "47860150",
   "metadata": {},
   "source": [
    "### Data cleaning"
   ]
  },
  {
   "cell_type": "code",
   "execution_count": 43,
   "id": "61b658f6",
   "metadata": {
    "ExecuteTime": {
     "end_time": "2025-10-13T07:53:10.275910900Z",
     "start_time": "2025-10-13T07:31:03.449782Z"
    }
   },
   "outputs": [
    {
     "name": "stdout",
     "output_type": "stream",
     "text": [
      "==================================================\n",
      "              DUPLICATE VALUES CHECK              \n",
      "==================================================\n",
      "Number of duplicate rows in the DataFrame: 0\n"
     ]
    }
   ],
   "source": [
    "## checking duplicate values\n",
    "print(\"=\"*50)\n",
    "print(\"DUPLICATE VALUES CHECK\".center(50))\n",
    "print(\"=\"*50)\n",
    "duplicate_count = DataFrame.duplicated().sum()\n",
    "print(f\"Number of duplicate rows in the DataFrame: {duplicate_count}\")"
   ]
  },
  {
   "cell_type": "markdown",
   "id": "1e5f43c8",
   "metadata": {},
   "source": [
    "#### There are no duplicated rows present in the  DataFrame"
   ]
  },
  {
   "cell_type": "code",
   "execution_count": 44,
   "id": "9e34cd30",
   "metadata": {
    "ExecuteTime": {
     "end_time": "2025-10-13T07:53:10.276909900Z",
     "start_time": "2025-10-13T07:31:03.498574Z"
    }
   },
   "outputs": [
    {
     "name": "stdout",
     "output_type": "stream",
     "text": [
      "==================================================\n",
      "            Null values in each column            \n",
      "==================================================\n",
      "layer_height          0\n",
      "wall_thickness        0\n",
      "infill_density        0\n",
      "infill_pattern        0\n",
      "nozzle_temperature    0\n",
      "bed_temperature       0\n",
      "print_speed           0\n",
      "material              0\n",
      "fan_speed             0\n",
      "roughness             0\n",
      "tension_strenght      0\n",
      "elongation            0\n",
      "dtype: int64\n"
     ]
    }
   ],
   "source": [
    "# checking null values in the DataFrame\n",
    "null_values = DataFrame.isnull().sum()\n",
    "print(\"=\"*50)\n",
    "print(\"Null values in each column\".center(50))\n",
    "print(\"=\"*50)\n",
    "print(null_values)"
   ]
  },
  {
   "cell_type": "markdown",
   "id": "26790b13",
   "metadata": {},
   "source": [
    "###### From the above code snipett we can say there are zero null values means no null values situated in DataFrame "
   ]
  },
  {
   "cell_type": "code",
   "execution_count": 45,
   "id": "ef1e3da5",
   "metadata": {
    "ExecuteTime": {
     "end_time": "2025-10-13T07:53:10.278419800Z",
     "start_time": "2025-10-13T07:31:03.545367Z"
    }
   },
   "outputs": [
    {
     "name": "stdout",
     "output_type": "stream",
     "text": [
      "================================================================================================================================================================================================================================================\n",
      "                               Unique values in each column                               \n",
      "================================================================================================================================================================================================================================================\n",
      " layer_height : {0.1, 0.06, 0.09, 0.15, 0.2, 0.03, 0.05, 0.04, 0.02}\n",
      " wall_thickness : {1.0, 2.0, 3.0, 4.0, 5.0, 6.0, 7.0, 8.0, 9.0, 10.0, 4.5, 12.0}\n",
      " infill_density : {100, 70, 40, 10, 12, 80, 50, 20, 85, 90, 60, 30, 95}\n",
      " infill_pattern : {'grid', 'honeycomb'}\n",
      " nozzle_temperature : {225, 230, 200, 205, 240, 210, 245, 215, 250, 220}\n",
      " bed_temperature : {65, 100, 70, 75, 80, 85, 60, 95}\n",
      " print_speed : {65, 70, 40, 80, 85, 120, 60}\n",
      " material : {'pla', 'abs'}\n",
      " fan_speed : {0, 100, 75, 50, 25, 28}\n",
      " roughness : {128, 265, 138, 144, 145, 276, 21, 278, 24, 25, 154, 30, 32, 289, 163, 40, 168, 298, 172, 176, 180, 55, 312, 60, 192, 321, 68, 326, 200, 74, 75, 205, 212, 88, 220, 92, 225, 98, 357, 360, 368, 244, 118, 120, 121, 126}\n",
      " tension_strenght : {4, 5, 8, 9, 10, 11, 12, 13, 14, 16, 18, 19, 21, 22, 23, 24, 25, 26, 27, 28, 29, 30, 33, 34, 35, 37, 38}\n",
      " elongation : {0.8, 1.2, 0.7, 1.4, 0.5, 1.1, 0.95, 1.5, 1.7, 2.4, 1.3, 1.0, 2.0, 0.6, 1.6, 2.1, 3.1, 2.2, 2.8, 2.3, 2.7, 3.3, 3.2, 1.8, 1.9, 0.9, 0.4, 2.9}\n"
     ]
    }
   ],
   "source": [
    "## unique values in each column\n",
    "print(\"=\"*240)\n",
    "print(\"Unique values in each column\".center(90))\n",
    "print(\"=\"*240)\n",
    "for col in DataFrame.columns:\n",
    "    print(f\" {col} : {set(DataFrame[col])}\")\n"
   ]
  },
  {
   "cell_type": "markdown",
   "id": "aac9f227",
   "metadata": {},
   "source": [
    "###### By checking the above values which are unique from each features, there is no inconsistent data in the DataFrame"
   ]
  },
  {
   "cell_type": "code",
   "execution_count": 46,
   "id": "45e59ea4",
   "metadata": {
    "ExecuteTime": {
     "end_time": "2025-10-13T07:53:10.295416300Z",
     "start_time": "2025-10-13T07:31:03.585568Z"
    }
   },
   "outputs": [
    {
     "name": "stdout",
     "output_type": "stream",
     "text": [
      "Categorical columns: ['infill_pattern', 'material']\n",
      "Numerical columns: ['layer_height', 'wall_thickness', 'infill_density', 'nozzle_temperature', 'bed_temperature', 'print_speed', 'fan_speed', 'roughness', 'tension_strenght', 'elongation']\n"
     ]
    }
   ],
   "source": [
    "##seperating categorical and numerical columns\n",
    "categorical_cols = DataFrame.select_dtypes(include=['object']).columns\n",
    "numerical_cols = DataFrame.select_dtypes(include=['number']).columns\n",
    "\n",
    "print(\"Categorical columns:\", list(categorical_cols))\n",
    "print(\"Numerical columns:\", list(numerical_cols))"
   ]
  },
  {
   "cell_type": "markdown",
   "id": "93e68240",
   "metadata": {},
   "source": [
    "### EXploratory Data Analysis"
   ]
  },
  {
   "cell_type": "markdown",
   "id": "6f1cb69d",
   "metadata": {},
   "source": [
    "#### Univariate Analysis"
   ]
  },
  {
   "cell_type": "code",
   "execution_count": 47,
   "id": "72d5f6f7",
   "metadata": {
    "ExecuteTime": {
     "end_time": "2025-10-13T07:53:10.298416900Z",
     "start_time": "2025-10-13T07:31:03.629191Z"
    }
   },
   "outputs": [
    {
     "name": "stdout",
     "output_type": "stream",
     "text": [
      "layer_height: float64\n",
      "wall_thickness: float64\n",
      "infill_density: int64\n",
      "infill_pattern: object\n",
      "nozzle_temperature: int64\n",
      "bed_temperature: int64\n",
      "print_speed: int64\n",
      "material: object\n",
      "fan_speed: int64\n",
      "roughness: int64\n",
      "tension_strenght: int64\n",
      "elongation: float64\n"
     ]
    }
   ],
   "source": [
    "## printing the nuerical coilumns\n",
    "for col in DataFrame.columns:\n",
    "    print(f\"{col}: {DataFrame[col].dtype}\")"
   ]
  },
  {
   "cell_type": "code",
   "execution_count": 48,
   "id": "a051e440",
   "metadata": {
    "ExecuteTime": {
     "end_time": "2025-10-13T07:53:10.299420800Z",
     "start_time": "2025-10-13T07:31:03.676909Z"
    }
   },
   "outputs": [
    {
     "data": {
      "image/png": "[encoded data removed]",
      "text/plain": [
       "<Figure size 900x800 with 2 Axes>"
      ]
     },
     "metadata": {},
     "output_type": "display_data"
    },
    {
     "name": "stdout",
     "output_type": "stream",
     "text": [
      "material\n",
      "abs    36\n",
      "pla    30\n",
      "Name: count, dtype: int64\n",
      "\n",
      " infill_pattern\n",
      "honeycomb    34\n",
      "grid         32\n",
      "Name: count, dtype: int64\n"
     ]
    }
   ],
   "source": [
    "#checking the count of values in material feature\n",
    "fig, axes = plt.subplots(1, 2, figsize=(9, 8))\n",
    "material_counts = DataFrame['material'].value_counts()\n",
    "infill_values = DataFrame['infill_pattern'].value_counts()\n",
    "\n",
    "axes[0].pie(material_counts, labels=material_counts.index, autopct='%1.1f%%', startangle=90)\n",
    "axes[0].set_title('Material Distribution')\n",
    "axes[1].pie(infill_values, labels=infill_values.index, autopct='%1.1f%%', startangle=90)\n",
    "axes[1].set_title('Infill Pattern Distribution')\n",
    "plt.show()\n",
    "\n",
    "print(DataFrame['material'].value_counts())\n",
    "print('\\n', DataFrame['infill_pattern'].value_counts())"
   ]
  },
  {
   "cell_type": "markdown",
   "id": "e2ea6087",
   "metadata": {},
   "source": [
    "##### 1. In Infill pattern Distribution both honeycomb and grid are equally disributed with 51 % and 49%.\n",
    "##### 2. In material distribution both PLA(Polylactic Acid) and ABS(Acrylonitrile Butadiene Styrene) are distributed with 55 % and 45 %"
   ]
  },
  {
   "cell_type": "code",
   "execution_count": 49,
   "id": "460a52df",
   "metadata": {
    "ExecuteTime": {
     "end_time": "2025-10-13T07:53:10.300420300Z",
     "start_time": "2025-10-13T07:31:03.992430Z"
    }
   },
   "outputs": [
    {
     "name": "stdout",
     "output_type": "stream",
     "text": [
      "layer_height          0.298949\n",
      "wall_thickness        0.114535\n",
      "infill_density       -0.168731\n",
      "nozzle_temperature    0.354103\n",
      "bed_temperature       0.871932\n",
      "print_speed           1.176907\n",
      "fan_speed             0.010153\n",
      "roughness             0.442716\n",
      "tension_strenght      0.194075\n",
      "elongation            0.521892\n",
      "dtype: float64\n"
     ]
    }
   ],
   "source": [
    "skewness = DataFrame[numerical_cols].skew()  # Returns skew value for each column\n",
    "print(skewness)"
   ]
  },
  {
   "cell_type": "code",
   "execution_count": 50,
   "id": "7c4523efc1f23ece",
   "metadata": {
    "ExecuteTime": {
     "end_time": "2025-10-13T07:53:10.301418700Z",
     "start_time": "2025-10-13T07:31:04.051897Z"
    }
   },
   "outputs": [],
   "source": [
    "DataFrame['print_speed'] = np.log1p(DataFrame['print_speed'])\n",
    "DataFrame['bed_temperature'] = np.log1p(DataFrame['bed_temperature'])\n",
    "DataFrame['elongation'] = np.log1p(DataFrame['elongation'])"
   ]
  },
  {
   "cell_type": "code",
   "execution_count": 51,
   "id": "166e1abe",
   "metadata": {
    "ExecuteTime": {
     "end_time": "2025-10-13T07:53:10.317004600Z",
     "start_time": "2025-10-13T07:31:04.073867Z"
    }
   },
   "outputs": [
    {
     "data": {
      "image/png": "[encoded data removed]",
      "text/plain": [
       "<Figure size 1000x500 with 4 Axes>"
      ]
     },
     "metadata": {},
     "output_type": "display_data"
    }
   ],
   "source": [
    "\n",
    "fig, ax = plt.subplots(2, 2, figsize=(10,5))\n",
    "sns.histplot(DataFrame['nozzle_temperature'], ax=ax[0,0], kde=True, color=\"green\", edgecolor=\"black\")\n",
    "ax[0,0].set_ylabel('Frequency')\n",
    "\n",
    "sns.histplot(DataFrame['bed_temperature'], ax=ax[0,1], kde=True, color=\"blue\", edgecolor=\"black\")\n",
    "ax[0,1].set_ylabel('Frequency')\n",
    "# Add skewness text to plot\n",
    "sns.histplot(DataFrame['elongation'], ax=ax[1,0], kde=True, color=\"orange\", edgecolor=\"black\")\n",
    "ax[1,0].set_ylabel('Frequency')\n",
    "\n",
    "sns.histplot(DataFrame['print_speed'], ax=ax[1,1], kde=True, color=\"yellow\", edgecolor=\"black\")\n",
    "ax[1,1].set_ylabel('Frequency')\n",
    "plt.tight_layout()\n",
    "plt.show()\n",
    "\n"
   ]
  },
  {
   "cell_type": "markdown",
   "id": "1079967f",
   "metadata": {},
   "source": [
    "### Distribution of Features:\n",
    "##### 1. The histogram shows values mostly concentrated between 220–230°C with a few lower and higher values in nozzle temperature.\n",
    "##### 2. Elongation Distribution peaks around 1–2%, with some higher values above 2.5%.\n",
    "##### 3. bed temperature Values cluster around 65–75°C, with a long tail stretching toward 100°C.\n",
    "##### 4. Histogram shows clusters at 40–60 mm/s, 60–70 mm/s, and a small group around 110–120 mm/s."
   ]
  },
  {
   "cell_type": "markdown",
   "id": "c569507d",
   "metadata": {},
   "source": [
    "### Bivariate Analysis"
   ]
  },
  {
   "cell_type": "code",
   "execution_count": 52,
   "id": "3b3ba8f0",
   "metadata": {
    "ExecuteTime": {
     "end_time": "2025-10-13T07:53:10.321003200Z",
     "start_time": "2025-10-13T07:31:05.424412Z"
    }
   },
   "outputs": [
    {
     "data": {
      "image/png": "[encoded data removed]",
      "text/plain": [
       "<Figure size 500x500 with 1 Axes>"
      ]
     },
     "metadata": {},
     "output_type": "display_data"
    },
    {
     "name": "stdout",
     "output_type": "stream",
     "text": [
      "infill_pattern  grid  honeycomb\n",
      "material                       \n",
      "abs               20         16\n",
      "pla               12         18\n"
     ]
    }
   ],
   "source": [
    "plt.figure(figsize=(5,5))\n",
    "sns.countplot(data=DataFrame, x='material', hue='infill_pattern', palette='Set3')\n",
    "plt.show()\n",
    "#cross table for material and infill_pattern\n",
    "cross_tab = pd.crosstab(DataFrame['material'], DataFrame['infill_pattern'])\n",
    "print(cross_tab)\n"
   ]
  },
  {
   "cell_type": "code",
   "execution_count": 53,
   "id": "1f5d337a",
   "metadata": {
    "ExecuteTime": {
     "end_time": "2025-10-13T07:53:10.322002200Z",
     "start_time": "2025-10-13T07:31:05.740358Z"
    }
   },
   "outputs": [
    {
     "data": {
      "image/png": "[encoded data removed]",
      "text/plain": [
       "<Figure size 900x500 with 4 Axes>"
      ]
     },
     "metadata": {},
     "output_type": "display_data"
    }
   ],
   "source": [
    "\n",
    "fig, axes = plt.subplots(2, 2, figsize=(9,5))\n",
    "sns.boxplot(data=DataFrame, x='material', y='infill_density', ax=axes[0, 0])\n",
    "axes[0, 0].set_title('Infill Density by Material')\n",
    "sns.boxplot(data=DataFrame, x='material', y='tension_strenght', ax=axes[0, 1])\n",
    "axes[0, 1].set_title('Tension Strength by Material')\n",
    "sns.boxplot(data=DataFrame, x='material', y='roughness', ax=axes[1, 0])\n",
    "axes[1, 0].set_title('Roughness by Material')\n",
    "sns.boxplot(data=DataFrame, x='material', y='print_speed', ax=axes[1, 1])\n",
    "axes[1, 1].set_title('Fan Speed by Material')\n",
    "plt.tight_layout()\n",
    "plt.show()\n"
   ]
  },
  {
   "cell_type": "code",
   "execution_count": 54,
   "id": "510f77e1282d7aed",
   "metadata": {
    "ExecuteTime": {
     "end_time": "2025-10-13T07:53:10.323002100Z",
     "start_time": "2025-10-13T07:31:06.680123Z"
    }
   },
   "outputs": [
    {
     "name": "stdout",
     "output_type": "stream",
     "text": [
      "layer_height: 0 outliers\n",
      "wall_thickness: 0 outliers\n",
      "infill_density: 0 outliers\n",
      "nozzle_temperature: 0 outliers\n",
      "bed_temperature: 0 outliers\n",
      "print_speed: 0 outliers\n",
      "fan_speed: 0 outliers\n",
      "roughness: 0 outliers\n",
      "tension_strenght: 0 outliers\n",
      "elongation: 0 outliers\n"
     ]
    }
   ],
   "source": [
    "# Detect and cap outliers using IQR method\n",
    "for col in numerical_cols:\n",
    "    Q1 = DataFrame[col].quantile(0.25)\n",
    "    Q3 = DataFrame[col].quantile(0.75)\n",
    "    IQR = Q3 - Q1\n",
    "    lower = Q1 - 1.5 * IQR\n",
    "    upper = Q3 + 1.5 * IQR\n",
    "\n",
    "    DataFrame[col] = np.where(DataFrame[col] < lower, lower, DataFrame[col])\n",
    "    DataFrame[col] = np.where(DataFrame[col] > upper, upper, DataFrame[col])\n",
    "\n",
    "    outlier_count = ((DataFrame[col] < lower) | (DataFrame[col] > upper)).sum()\n",
    "    print(f\"{col}: {outlier_count} outliers\")\n"
   ]
  },
  {
   "cell_type": "markdown",
   "id": "4593bb0c",
   "metadata": {},
   "source": [
    "### Data splitting , Data encoding, Data scaling"
   ]
  },
  {
   "cell_type": "code",
   "execution_count": 55,
   "id": "786b4fb0dccf7b88",
   "metadata": {
    "ExecuteTime": {
     "end_time": "2025-10-13T07:53:10.338000500Z",
     "start_time": "2025-10-13T07:31:06.735160Z"
    }
   },
   "outputs": [
    {
     "data": {
      "text/html": [
       "<div>\n",
       "<style scoped>\n",
       "    .dataframe tbody tr th:only-of-type {\n",
       "        vertical-align: middle;\n",
       "    }\n",
       "\n",
       "    .dataframe tbody tr th {\n",
       "        vertical-align: top;\n",
       "    }\n",
       "\n",
       "    .dataframe thead th {\n",
       "        text-align: right;\n",
       "    }\n",
       "</style>\n",
       "<table border=\"1\" class=\"dataframe\">\n",
       "  <thead>\n",
       "    <tr style=\"text-align: right;\">\n",
       "      <th></th>\n",
       "      <th>layer_height</th>\n",
       "      <th>wall_thickness</th>\n",
       "      <th>infill_density</th>\n",
       "      <th>infill_pattern</th>\n",
       "      <th>nozzle_temperature</th>\n",
       "      <th>bed_temperature</th>\n",
       "      <th>print_speed</th>\n",
       "      <th>material</th>\n",
       "      <th>fan_speed</th>\n",
       "      <th>roughness</th>\n",
       "      <th>tension_strenght</th>\n",
       "      <th>elongation</th>\n",
       "    </tr>\n",
       "  </thead>\n",
       "  <tbody>\n",
       "    <tr>\n",
       "      <th>0</th>\n",
       "      <td>0.02</td>\n",
       "      <td>8.0</td>\n",
       "      <td>90.0</td>\n",
       "      <td>grid</td>\n",
       "      <td>220.0</td>\n",
       "      <td>4.110874</td>\n",
       "      <td>3.713572</td>\n",
       "      <td>abs</td>\n",
       "      <td>0.0</td>\n",
       "      <td>25.0</td>\n",
       "      <td>18.0</td>\n",
       "      <td>0.788457</td>\n",
       "    </tr>\n",
       "    <tr>\n",
       "      <th>1</th>\n",
       "      <td>0.02</td>\n",
       "      <td>7.0</td>\n",
       "      <td>90.0</td>\n",
       "      <td>honeycomb</td>\n",
       "      <td>225.0</td>\n",
       "      <td>4.189655</td>\n",
       "      <td>3.713572</td>\n",
       "      <td>abs</td>\n",
       "      <td>25.0</td>\n",
       "      <td>32.0</td>\n",
       "      <td>16.0</td>\n",
       "      <td>0.875469</td>\n",
       "    </tr>\n",
       "    <tr>\n",
       "      <th>2</th>\n",
       "      <td>0.02</td>\n",
       "      <td>1.0</td>\n",
       "      <td>80.0</td>\n",
       "      <td>grid</td>\n",
       "      <td>230.0</td>\n",
       "      <td>4.262680</td>\n",
       "      <td>3.713572</td>\n",
       "      <td>abs</td>\n",
       "      <td>50.0</td>\n",
       "      <td>40.0</td>\n",
       "      <td>8.0</td>\n",
       "      <td>0.587787</td>\n",
       "    </tr>\n",
       "    <tr>\n",
       "      <th>3</th>\n",
       "      <td>0.02</td>\n",
       "      <td>4.0</td>\n",
       "      <td>70.0</td>\n",
       "      <td>honeycomb</td>\n",
       "      <td>240.0</td>\n",
       "      <td>4.330733</td>\n",
       "      <td>3.713572</td>\n",
       "      <td>abs</td>\n",
       "      <td>75.0</td>\n",
       "      <td>68.0</td>\n",
       "      <td>10.0</td>\n",
       "      <td>0.405465</td>\n",
       "    </tr>\n",
       "    <tr>\n",
       "      <th>4</th>\n",
       "      <td>0.02</td>\n",
       "      <td>6.0</td>\n",
       "      <td>90.0</td>\n",
       "      <td>grid</td>\n",
       "      <td>250.0</td>\n",
       "      <td>4.394449</td>\n",
       "      <td>3.713572</td>\n",
       "      <td>abs</td>\n",
       "      <td>100.0</td>\n",
       "      <td>92.0</td>\n",
       "      <td>5.0</td>\n",
       "      <td>0.530628</td>\n",
       "    </tr>\n",
       "  </tbody>\n",
       "</table>\n",
       "</div>"
      ],
      "text/plain": [
       "   layer_height  wall_thickness  infill_density infill_pattern  \\\n",
       "0          0.02             8.0            90.0           grid   \n",
       "1          0.02             7.0            90.0      honeycomb   \n",
       "2          0.02             1.0            80.0           grid   \n",
       "3          0.02             4.0            70.0      honeycomb   \n",
       "4          0.02             6.0            90.0           grid   \n",
       "\n",
       "   nozzle_temperature  bed_temperature  print_speed material  fan_speed  \\\n",
       "0               220.0         4.110874     3.713572      abs        0.0   \n",
       "1               225.0         4.189655     3.713572      abs       25.0   \n",
       "2               230.0         4.262680     3.713572      abs       50.0   \n",
       "3               240.0         4.330733     3.713572      abs       75.0   \n",
       "4               250.0         4.394449     3.713572      abs      100.0   \n",
       "\n",
       "   roughness  tension_strenght  elongation  \n",
       "0       25.0              18.0    0.788457  \n",
       "1       32.0              16.0    0.875469  \n",
       "2       40.0               8.0    0.587787  \n",
       "3       68.0              10.0    0.405465  \n",
       "4       92.0               5.0    0.530628  "
      ]
     },
     "execution_count": 55,
     "metadata": {},
     "output_type": "execute_result"
    }
   ],
   "source": [
    "DataFrame.head()"
   ]
  },
  {
   "cell_type": "code",
   "execution_count": 56,
   "id": "3d2f5975e855087b",
   "metadata": {
    "ExecuteTime": {
     "end_time": "2025-10-13T07:53:10.341004800Z",
     "start_time": "2025-10-13T07:31:06.810248Z"
    }
   },
   "outputs": [],
   "source": [
    "le_material = LabelEncoder()\n",
    "le_infill = LabelEncoder()\n",
    "\n",
    "# Encode the columns\n",
    "DataFrame['material'] = le_material.fit_transform(DataFrame['material'])\n",
    "DataFrame['infill_pattern'] = le_infill.fit_transform(DataFrame['infill_pattern'])\n"
   ]
  },
  {
   "cell_type": "code",
   "execution_count": 57,
   "id": "c9ec27c3",
   "metadata": {
    "ExecuteTime": {
     "end_time": "2025-10-13T07:53:10.342999100Z",
     "start_time": "2025-10-13T07:31:06.825058Z"
    }
   },
   "outputs": [],
   "source": [
    "\n",
    "x = DataFrame.drop(['material'], axis=1)\n",
    "y = DataFrame['material']"
   ]
  },
  {
   "cell_type": "markdown",
   "id": "743c24ea",
   "metadata": {},
   "source": [
    "##### Data is splitted from the DataFrame  for two variables x(independent variable) and y(dependent variable).\n",
    "##### Dependent variable is nothing but output in the dataset and independent variable is remaining all features"
   ]
  },
  {
   "cell_type": "code",
   "execution_count": 58,
   "id": "526bf001",
   "metadata": {
    "ExecuteTime": {
     "end_time": "2025-10-13T07:53:10.344086Z",
     "start_time": "2025-10-13T07:31:06.851197Z"
    }
   },
   "outputs": [
    {
     "data": {
      "image/png": "[encoded data removed]",
      "text/plain": [
       "<Figure size 500x400 with 1 Axes>"
      ]
     },
     "metadata": {},
     "output_type": "display_data"
    }
   ],
   "source": [
    "model = RandomForestClassifier()\n",
    "model.fit(x, y)\n",
    "imp = model.feature_importances_\n",
    "title = x.columns\n",
    "Top_features = pd.Series(imp,index=title).sort_values(ascending=False)\n",
    "\n",
    "plt.figure(figsize=(5,4))\n",
    "sns.barplot(x=Top_features.values, y=Top_features.index, color='skyblue')\n",
    "plt.ylabel('Features')\n",
    "plt.show()"
   ]
  },
  {
   "cell_type": "code",
   "execution_count": 59,
   "id": "d31464d2-e575-489f-9189-e660e4d452ef",
   "metadata": {},
   "outputs": [],
   "source": [
    "x = x.drop(['print_speed', 'layer_height', 'infill_pattern', 'bed_temperature'], axis=1)\n"
   ]
  },
  {
   "cell_type": "code",
   "execution_count": 60,
   "id": "b599e235",
   "metadata": {
    "ExecuteTime": {
     "end_time": "2025-10-13T07:53:10.359713400Z",
     "start_time": "2025-10-13T07:31:07.426390Z"
    }
   },
   "outputs": [],
   "source": [
    "x_train, x_test, y_train, y_test = train_test_split(x, y, test_size=0.25, random_state=42)"
   ]
  },
  {
   "cell_type": "code",
   "execution_count": 61,
   "id": "46b9d61cfab90cac",
   "metadata": {
    "ExecuteTime": {
     "end_time": "2025-10-13T07:53:10.359713400Z",
     "start_time": "2025-10-13T07:31:07.446235Z"
    }
   },
   "outputs": [],
   "source": [
    "## normalizing the data\n",
    "scaler = MinMaxScaler()\n",
    "x_train = scaler.fit_transform(x_train)\n",
    "x_test = scaler.transform(x_test)"
   ]
  },
  {
   "cell_type": "markdown",
   "id": "b9a2352f",
   "metadata": {},
   "source": [
    "### Model Building"
   ]
  },
  {
   "cell_type": "markdown",
   "id": "f35161cca8415236",
   "metadata": {},
   "source": [
    "##### Logistic Regression"
   ]
  },
  {
   "cell_type": "code",
   "execution_count": 62,
   "id": "577f25bb",
   "metadata": {
    "ExecuteTime": {
     "end_time": "2025-10-13T07:53:10.359713400Z",
     "start_time": "2025-10-13T07:31:07.469850Z"
    }
   },
   "outputs": [],
   "source": [
    "cv = StratifiedKFold(n_splits=5, shuffle=True, random_state=42)\n",
    "#LOGISTIC REGRESSION\n",
    "\n",
    "\n",
    "lg = LogisticRegression(max_iter=1000, random_state=42)\n",
    "param_lg = {'C': [0.01, 0.1, 1, 10], 'solver': ['liblinear', 'lbfgs']}\n",
    "\n",
    "random_lg = RandomizedSearchCV(lg, param_distributions=param_lg, n_iter=7,scoring='accuracy', cv=cv, n_jobs=-1, random_state=42)\n",
    "random_lg.fit(x_train, y_train)\n",
    "y_pred_lg= random_lg.predict(x_test)\n",
    "\n"
   ]
  },
  {
   "cell_type": "markdown",
   "id": "b20b9c7abee27709",
   "metadata": {},
   "source": [
    "##### Random Forest"
   ]
  },
  {
   "cell_type": "code",
   "execution_count": 63,
   "id": "44859bd3",
   "metadata": {
    "ExecuteTime": {
     "end_time": "2025-10-13T07:53:10.359713400Z",
     "start_time": "2025-10-13T07:31:11.955194Z"
    }
   },
   "outputs": [],
   "source": [
    "\n",
    "#RANDOM FOREST\n",
    "\n",
    "rf = RandomForestClassifier(random_state=42)\n",
    "param_rf = {\n",
    "    'n_estimators': [100, 200, 300,400,500],\n",
    "    'max_depth': [2,6,8,10],\n",
    "    'min_samples_split': [2, 5,7],\n",
    "    'min_samples_leaf': [1, 2,4,5],\n",
    "    'max_features': ['sqrt', 'log2', None] \n",
    "}\n",
    "random_rf = RandomizedSearchCV(rf, param_distributions=param_rf, n_iter=50,\n",
    "                               scoring='accuracy', cv=cv, n_jobs=-1, random_state=42)\n",
    "random_rf.fit(x_train, y_train)\n",
    "y_pred_rf = random_rf.predict(x_test)\n"
   ]
  },
  {
   "cell_type": "markdown",
   "id": "fd57ea8da3cb55f",
   "metadata": {},
   "source": [
    "##### Decision Tree"
   ]
  },
  {
   "cell_type": "code",
   "execution_count": 64,
   "id": "030de77b",
   "metadata": {
    "ExecuteTime": {
     "end_time": "2025-10-13T07:53:10.359713400Z",
     "start_time": "2025-10-13T07:31:58.550797Z"
    }
   },
   "outputs": [
    {
     "name": "stdout",
     "output_type": "stream",
     "text": [
      "Fitting 5 folds for each of 40 candidates, totalling 200 fits\n"
     ]
    }
   ],
   "source": [
    "#DECISION TREE\n",
    "\n",
    "dt = DecisionTreeClassifier(random_state=42)\n",
    "param_dt = {\n",
    "    'max_depth': [2, 4, 6, 8, 10],\n",
    "    'min_samples_split': [2, 5, 7],\n",
    "    'min_samples_leaf': [1, 2, 4, 5]\n",
    "}\n",
    "random_dt = RandomizedSearchCV(dt, param_distributions=param_dt, n_iter=40,\n",
    "                               scoring='accuracy', cv=cv, n_jobs=-1, random_state=42, verbose=1)\n",
    "random_dt.fit(x_train, y_train)\n",
    "y_pred_dt= random_lg.predict(x_test)\n"
   ]
  },
  {
   "cell_type": "code",
   "execution_count": 65,
   "id": "3493bf3e",
   "metadata": {
    "ExecuteTime": {
     "end_time": "2025-10-13T07:53:10.359713400Z",
     "start_time": "2025-10-13T07:31:58.915946Z"
    }
   },
   "outputs": [],
   "source": [
    "def evaluate_model(name, search, x_train, y_train, x_test, y_test):\n",
    "    best_model = search.best_estimator_\n",
    "    y_train_pred = best_model.predict(x_train)\n",
    "    y_test_pred = best_model.predict(x_test)\n",
    "    \n",
    "   \n",
    "    cv_scores = cross_val_score(best_model, x, y, cv=cv, scoring='accuracy')\n",
    "    \n",
    "    print(f\"\\n================================={name} =======================================\")\n",
    "    print(\"Best Parameters: \",search.best_params_)\n",
    "    print(\"CV Accuracy (best from RandomizedSearchCV):\",search.best_score_)\n",
    "    print(f\"Mean CV Accuracy  and standard deviation :{cv_scores.mean()} + {cv_scores.std()}\")\n",
    "    print(\"Train Accuracy: \",accuracy_score(y_train, y_train_pred))\n",
    "    print(\"Test Accuracy:\",accuracy_score(y_test, y_test_pred))\n",
    "    print()\n",
    "    print(\"classificaton report:\\n\",classification_report(y_test,search.predict(x_test)))\n",
    "    print(\"confusion matrix:\\n\",confusion_matrix(y_test,search.predict(x_test)))\n",
    "    print(\"Accuracy:\\n\",accuracy_score(y_test,search.predict(x_test)))\n",
    "    print(\"Precision:\\n\",precision_score(y_test,search.predict(x_test)))\n",
    "    print(\"Recall score:\\n\",recall_score(y_test,search.predict(x_test)))\n",
    "    \n",
    "    return accuracy_score(y_test, y_test_pred)"
   ]
  },
  {
   "cell_type": "code",
   "execution_count": 66,
   "id": "c5d0da5a",
   "metadata": {
    "ExecuteTime": {
     "end_time": "2025-10-13T07:53:10.375344800Z",
     "start_time": "2025-10-13T07:31:58.979586Z"
    }
   },
   "outputs": [
    {
     "name": "stdout",
     "output_type": "stream",
     "text": [
      "\n",
      "=================================Logistic Regression =======================================\n",
      "Best Parameters:  {'solver': 'lbfgs', 'C': 10}\n",
      "CV Accuracy (best from RandomizedSearchCV): 0.9\n",
      "Mean CV Accuracy  and standard deviation :0.9252747252747253 + 0.04525551710323957\n",
      "Train Accuracy:  0.9591836734693877\n",
      "Test Accuracy: 1.0\n",
      "\n",
      "classificaton report:\n",
      "               precision    recall  f1-score   support\n",
      "\n",
      "           0       1.00      1.00      1.00        11\n",
      "           1       1.00      1.00      1.00         6\n",
      "\n",
      "    accuracy                           1.00        17\n",
      "   macro avg       1.00      1.00      1.00        17\n",
      "weighted avg       1.00      1.00      1.00        17\n",
      "\n",
      "confusion matrix:\n",
      " [[11  0]\n",
      " [ 0  6]]\n",
      "Accuracy:\n",
      " 1.0\n",
      "Precision:\n",
      " 1.0\n",
      "Recall score:\n",
      " 1.0\n",
      "\n",
      "=================================Random Forest =======================================\n",
      "Best Parameters:  {'n_estimators': 100, 'min_samples_split': 2, 'min_samples_leaf': 2, 'max_features': 'sqrt', 'max_depth': 8}\n",
      "CV Accuracy (best from RandomizedSearchCV): 0.8577777777777775\n",
      "Mean CV Accuracy  and standard deviation :0.9241758241758242 + 0.048700043530022726\n",
      "Train Accuracy:  0.9795918367346939\n",
      "Test Accuracy: 0.8823529411764706\n",
      "\n",
      "classificaton report:\n",
      "               precision    recall  f1-score   support\n",
      "\n",
      "           0       1.00      0.82      0.90        11\n",
      "           1       0.75      1.00      0.86         6\n",
      "\n",
      "    accuracy                           0.88        17\n",
      "   macro avg       0.88      0.91      0.88        17\n",
      "weighted avg       0.91      0.88      0.88        17\n",
      "\n",
      "confusion matrix:\n",
      " [[9 2]\n",
      " [0 6]]\n",
      "Accuracy:\n",
      " 0.8823529411764706\n",
      "Precision:\n",
      " 0.75\n",
      "Recall score:\n",
      " 1.0\n",
      "\n",
      "=================================Decision Tree =======================================\n",
      "Best Parameters:  {'min_samples_split': 5, 'min_samples_leaf': 1, 'max_depth': 4}\n",
      "CV Accuracy (best from RandomizedSearchCV): 0.8177777777777777\n",
      "Mean CV Accuracy  and standard deviation :0.9087912087912088 + 0.07562483751246264\n",
      "Train Accuracy:  1.0\n",
      "Test Accuracy: 0.8235294117647058\n",
      "\n",
      "classificaton report:\n",
      "               precision    recall  f1-score   support\n",
      "\n",
      "           0       0.83      0.91      0.87        11\n",
      "           1       0.80      0.67      0.73         6\n",
      "\n",
      "    accuracy                           0.82        17\n",
      "   macro avg       0.82      0.79      0.80        17\n",
      "weighted avg       0.82      0.82      0.82        17\n",
      "\n",
      "confusion matrix:\n",
      " [[10  1]\n",
      " [ 2  4]]\n",
      "Accuracy:\n",
      " 0.8235294117647058\n",
      "Precision:\n",
      " 0.8\n",
      "Recall score:\n",
      " 0.6666666666666666\n"
     ]
    }
   ],
   "source": [
    "model_accuracies = {}\n",
    "model_accuracies[\"Logistic Regression\"] = evaluate_model(\"Logistic Regression\", random_lg, x_train, y_train, x_test, y_test)\n",
    "model_accuracies[\"Random Forest\"] = evaluate_model(\"Random Forest\", random_rf, x_train, y_train, x_test, y_test)\n",
    "model_accuracies[\"Decision Tree\"] = evaluate_model(\"Decision Tree\", random_dt, x_train, y_train, x_test, y_test)\n",
    "\n"
   ]
  },
  {
   "cell_type": "markdown",
   "id": "330c990b-6316-4934-b34c-2d7123fc3956",
   "metadata": {},
   "source": [
    "#### Case 1 – Good Fit:\n",
    "\n",
    "###### Train accuracy and Test accuracy are both high and similar values.\n",
    "\n",
    "###### CV mean and Train/Test accuracy, CV standard deviation is low <=1, then  model generalizes well.\n",
    "\n",
    "#### Case 2 – Overfitting:\n",
    "\n",
    "###### Train accuracy and  Test accuracy are both high and similar values.\n",
    "\n",
    "###### CV mean much lower than train accuracy, CV  standard deviation is high >=1 or low <=1 model memorizes data, unstable.\n",
    "\n",
    "#### Case 3 – Underfitting:\n",
    "\n",
    "###### Train and Test accuracy both low.\n",
    "\n",
    "###### CV mean and Train/Test accuracy are too low,  CV  standard deviation is high >=1 or low <=1 model too simple, cannot learn patterns."
   ]
  },
  {
   "cell_type": "code",
   "execution_count": 67,
   "id": "6b5aacdd19491cd5",
   "metadata": {
    "ExecuteTime": {
     "end_time": "2025-10-13T07:53:10.375344800Z",
     "start_time": "2025-10-13T07:32:05.090660Z"
    }
   },
   "outputs": [
    {
     "data": {
      "image/png": "[encoded data removed]",
      "text/plain": [
       "<Figure size 800x500 with 1 Axes>"
      ]
     },
     "metadata": {},
     "output_type": "display_data"
    }
   ],
   "source": [
    "plt.figure(figsize=(8,5))\n",
    "sns.barplot(x=list(model_accuracies.keys()), y=list(model_accuracies.values()), palette=\"viridis\")\n",
    "plt.ylabel(\"Test Accuracy\")\n",
    "plt.ylim(0, 1)\n",
    "plt.title(\"Model Test Accuracy Comparison\")\n",
    "for i, v in enumerate(model_accuracies.values()):\n",
    "    plt.text(i, v + 0.01, f\"{v:.2f}\", ha='center')\n",
    "plt.show()"
   ]
  },
  {
   "cell_type": "code",
   "execution_count": 68,
   "id": "bf5ae58fb8726947",
   "metadata": {
    "ExecuteTime": {
     "end_time": "2025-10-13T07:53:10.375344800Z",
     "start_time": "2025-10-13T07:42:07.737082Z"
    }
   },
   "outputs": [
    {
     "data": {
      "text/plain": [
       "['3d_printer.pkl']"
      ]
     },
     "execution_count": 68,
     "metadata": {},
     "output_type": "execute_result"
    }
   ],
   "source": [
    "import joblib\n",
    "joblib.dump(random_lg,'3d_printer.pkl')"
   ]
  },
  {
   "cell_type": "code",
   "execution_count": 69,
   "id": "761c7b02-5e2c-401c-8419-73e8151f02f3",
   "metadata": {},
   "outputs": [
    {
     "data": {
      "image/png": "[encoded data removed]",
      "text/plain": [
       "<Figure size 1000x600 with 1 Axes>"
      ]
     },
     "metadata": {},
     "output_type": "display_data"
    }
   ],
   "source": [
    "from sklearn.model_selection import learning_curve\n",
    "\n",
    "train_sizes, train_scores, test_scores = learning_curve(\n",
    "    estimator=random_lg,\n",
    "    X=x_train,\n",
    "    y=y_train,\n",
    "    cv=cv,\n",
    "    scoring=\"accuracy\",              # classification metric\n",
    "    train_sizes=np.linspace(0.1, 1.0, 5),  # 10%, 32.5%, 55%, 77.5%, 100%\n",
    "    n_jobs=-1\n",
    ")\n",
    "\n",
    "# Compute mean and std\n",
    "train_mean = train_scores.mean(axis=1)\n",
    "train_std = train_scores.std(axis=1)\n",
    "test_mean = test_scores.mean(axis=1)\n",
    "test_std = test_scores.std(axis=1)\n",
    "\n",
    "# ==============================\n",
    "# Plot Learning Curve\n",
    "# ==============================\n",
    "plt.figure(figsize=(10, 6))\n",
    "plt.plot(train_sizes, train_mean, 'o-', color='blue', label='Training Accuracy')\n",
    "plt.fill_between(train_sizes, train_mean - train_std, train_mean + train_std, alpha=0.2, color='blue')\n",
    "\n",
    "plt.plot(train_sizes, test_mean, 'o-', color='orange', label='Validation Accuracy')\n",
    "plt.fill_between(train_sizes, test_mean - test_std, test_mean + test_std, alpha=0.2, color='orange')\n",
    "\n",
    "plt.title(\"Learning Curve - Random Forest Classifier\")\n",
    "plt.xlabel(\"Training Set Size\")\n",
    "plt.ylabel(\"Accuracy\")\n",
    "plt.legend(loc=\"best\")\n",
    "plt.grid(True)\n",
    "plt.show()"
   ]
  },
  {
   "cell_type": "code",
   "execution_count": null,
   "id": "439fff2a-e734-44de-982a-7565522cdab0",
   "metadata": {},
   "outputs": [],
   "source": []
  },
  {
   "cell_type": "code",
   "execution_count": null,
   "id": "b78e7a0b-ef83-4d88-a4ae-c96ec08b5f6e",
   "metadata": {},
   "outputs": [
    {
     "name": "stdout",
     "output_type": "stream",
     "text": [
      " * Serving Flask app '__main__'\n",
      " * Debug mode: on\n"
     ]
    },
    {
     "name": "stderr",
     "output_type": "stream",
     "text": [
      "WARNING: This is a development server. Do not use it in a production deployment. Use a production WSGI server instead.\n",
      " * Running on http://127.0.0.1:5000\n",
      "Press CTRL+C to quit\n",
      "127.0.0.1 - - [13/Oct/2025 15:04:10] \"GET / HTTP/1.1\" 500 -\n",
      "Traceback (most recent call last):\n",
      "  File \"C:\\Users\\USER\\AppData\\Roaming\\Python\\Python312\\site-packages\\flask\\app.py\", line 1536, in __call__\n",
      "    return self.wsgi_app(environ, start_response)\n",
      "           ^^^^^^^^^^^^^^^^^^^^^^^^^^^^^^^^^^^^^^\n",
      "  File \"C:\\Users\\USER\\AppData\\Roaming\\Python\\Python312\\site-packages\\flask\\app.py\", line 1514, in wsgi_app\n",
      "    response = self.handle_exception(e)\n",
      "               ^^^^^^^^^^^^^^^^^^^^^^^^\n",
      "  File \"C:\\Users\\USER\\AppData\\Roaming\\Python\\Python312\\site-packages\\flask\\app.py\", line 1511, in wsgi_app\n",
      "    response = self.full_dispatch_request()\n",
      "               ^^^^^^^^^^^^^^^^^^^^^^^^^^^^\n",
      "  File \"C:\\Users\\USER\\AppData\\Roaming\\Python\\Python312\\site-packages\\flask\\app.py\", line 919, in full_dispatch_request\n",
      "    rv = self.handle_user_exception(e)\n",
      "         ^^^^^^^^^^^^^^^^^^^^^^^^^^^^^\n",
      "  File \"C:\\Users\\USER\\AppData\\Roaming\\Python\\Python312\\site-packages\\flask\\app.py\", line 917, in full_dispatch_request\n",
      "    rv = self.dispatch_request()\n",
      "         ^^^^^^^^^^^^^^^^^^^^^^^\n",
      "  File \"C:\\Users\\USER\\AppData\\Roaming\\Python\\Python312\\site-packages\\flask\\app.py\", line 902, in dispatch_request\n",
      "    return self.ensure_sync(self.view_functions[rule.endpoint])(**view_args)  # type: ignore[no-any-return]\n",
      "           ^^^^^^^^^^^^^^^^^^^^^^^^^^^^^^^^^^^^^^^^^^^^^^^^^^^^^^^^^^^^^^^^^^^^^^^^^^^^^^^^^^^^^^^^^^^^^^^^\n",
      "  File \"C:\\Users\\USER\\AppData\\Local\\Temp\\ipykernel_2280\\1582080808.py\", line 19, in home\n",
      "    return render_template('home.html')\n",
      "           ^^^^^^^^^^^^^^^^^^^^^^^^^^^^\n",
      "  File \"C:\\Users\\USER\\AppData\\Roaming\\Python\\Python312\\site-packages\\flask\\templating.py\", line 149, in render_template\n",
      "    template = app.jinja_env.get_or_select_template(template_name_or_list)\n",
      "               ^^^^^^^^^^^^^^^^^^^^^^^^^^^^^^^^^^^^^^^^^^^^^^^^^^^^^^^^^^^\n",
      "  File \"C:\\Users\\USER\\AppData\\Roaming\\Python\\Python312\\site-packages\\jinja2\\environment.py\", line 1087, in get_or_select_template\n",
      "    return self.get_template(template_name_or_list, parent, globals)\n",
      "           ^^^^^^^^^^^^^^^^^^^^^^^^^^^^^^^^^^^^^^^^^^^^^^^^^^^^^^^^^\n",
      "  File \"C:\\Users\\USER\\AppData\\Roaming\\Python\\Python312\\site-packages\\jinja2\\environment.py\", line 1016, in get_template\n",
      "    return self._load_template(name, globals)\n",
      "           ^^^^^^^^^^^^^^^^^^^^^^^^^^^^^^^^^^\n",
      "  File \"C:\\Users\\USER\\AppData\\Roaming\\Python\\Python312\\site-packages\\jinja2\\environment.py\", line 975, in _load_template\n",
      "    template = self.loader.load(self, name, self.make_globals(globals))\n",
      "               ^^^^^^^^^^^^^^^^^^^^^^^^^^^^^^^^^^^^^^^^^^^^^^^^^^^^^^^^\n",
      "  File \"C:\\Users\\USER\\AppData\\Roaming\\Python\\Python312\\site-packages\\jinja2\\loaders.py\", line 126, in load\n",
      "    source, filename, uptodate = self.get_source(environment, name)\n",
      "                                 ^^^^^^^^^^^^^^^^^^^^^^^^^^^^^^^^^^\n",
      "  File \"C:\\Users\\USER\\AppData\\Roaming\\Python\\Python312\\site-packages\\flask\\templating.py\", line 65, in get_source\n",
      "    return self._get_source_fast(environment, template)\n",
      "           ^^^^^^^^^^^^^^^^^^^^^^^^^^^^^^^^^^^^^^^^^^^^\n",
      "  File \"C:\\Users\\USER\\AppData\\Roaming\\Python\\Python312\\site-packages\\flask\\templating.py\", line 99, in _get_source_fast\n",
      "    raise TemplateNotFound(template)\n",
      "jinja2.exceptions.TemplateNotFound: home.html\n",
      "127.0.0.1 - - [13/Oct/2025 15:04:10] \"GET /?__debugger__=yes&cmd=resource&f=style.css HTTP/1.1\" 200 -\n",
      "127.0.0.1 - - [13/Oct/2025 15:04:10] \"GET /?__debugger__=yes&cmd=resource&f=debugger.js HTTP/1.1\" 200 -\n",
      "127.0.0.1 - - [13/Oct/2025 15:04:10] \"GET /?__debugger__=yes&cmd=resource&f=console.png&s=62AnqfuRfmhWuThAxVFK HTTP/1.1\" 200 -\n",
      "127.0.0.1 - - [13/Oct/2025 15:04:10] \"GET /?__debugger__=yes&cmd=resource&f=console.png HTTP/1.1\" 200 -\n"
     ]
    }
   ],
   "source": [
    "import numpy as np\n",
    "import pandas as pd\n",
    "import joblib\n",
    "from flask import Flask, request, render_template, redirect, url_for\n",
    "\n",
    "app = Flask(__name__, template_folder='templates')\n",
    "\n",
    "try:\n",
    "    model_path = r\"C:\\Users\\USER\\3d-printing-model\\flask\\3d_printer.pkl\"\n",
    "    model = joblib.load(model_path)\n",
    "except FileNotFoundError:\n",
    "    print(f\"ERROR: Model file not found at path: {model_path}\")\n",
    "    model = None\n",
    "\n",
    "\n",
    "\n",
    "@app.route('/', methods=['GET'])\n",
    "def home():\n",
    "    return render_template('home.html')\n",
    "\n",
    "@app.route('/result', methods=['GET'])\n",
    "def result_page():\n",
    "    return render_template('result.html')\n",
    "\n",
    "@app.route('/predict', methods=['POST'])\n",
    "def predict():\n",
    "    if model is None:\n",
    "        return render_template(\"result.html\", prediction_text=\"Error: Model is not loaded. Please check server logs.\")\n",
    "\n",
    "    try:\n",
    "        features_name = [\n",
    "            'layer_height', 'wall_thickness', 'infill_density', 'infill_pattern',\n",
    "            'nozzle_temperature', 'bed_temperature', 'print_speed', 'fan_speed',\n",
    "            'roughness', 'tension_strenght', 'elongation'\n",
    "        ]\n",
    "        \n",
    "        input_features = [float(request.form.get(name, 0)) for name in features_name]\n",
    "        \n",
    "        features_value = [np.array(input_features)]\n",
    "\n",
    "        prediction = model.predict(features_value)\n",
    "        output = prediction[0]\n",
    "        \n",
    "        if output == 1:\n",
    "            prediction_text = (\n",
    "                \"The Suggested Material is ABS. \"\n",
    "                \"(Acrylonitrile butadiene styrene is a common thermoplastic polymer \"\n",
    "                \"typically used for injection molding applications)\"\n",
    "            )\n",
    "        elif output == 0:\n",
    "            prediction_text = (\n",
    "                \"The Suggested Material is PLA. \"\n",
    "                \"(PLA, also known as polylactic acid or polylactide, is a thermoplastic \"\n",
    "                \"made from renewable resources such as corn starch, tapioca roots, or \"\n",
    "                \"sugar cane, unlike other industrial materials made primarily from petroleum)\"\n",
    "            )\n",
    "        else:\n",
    "            prediction_text = (\n",
    "                \"The given values do not match the range of values of the model. \"\n",
    "                \"Try giving the values in the mentioned range.\"\n",
    "            )\n",
    "        \n",
    "        return render_template(\"result.html\", prediction_text=prediction_text)\n",
    "    \n",
    "    except Exception as e:\n",
    "        return render_template(\"result.html\", prediction_text=f\"Error: {str(e)}\")\n",
    "\n",
    "if __name__ == '__main__':\n",
    "    app.run(host='0.0.0.0', port=5000, debug=True)\n",
    "\n"
   ]
  },
  {
   "cell_type": "code",
   "execution_count": null,
   "id": "490872fd-bfe0-4c94-b2f8-71795319ef30",
   "metadata": {},
   "outputs": [],
   "source": []
  }
 ],
 "metadata": {
  "kernelspec": {
   "display_name": "Python 3 (ipykernel)",
   "language": "python",
   "name": "python3"
  },
  "language_info": {
   "codemirror_mode": {
    "name": "ipython",
    "version": 3
   },
   "file_extension": ".py",
   "mimetype": "text/x-python",
   "name": "python",
   "nbconvert_exporter": "python",
   "pygments_lexer": "ipython3",
   "version": "3.12.6"
  }
 },
 "nbformat": 4,
 "nbformat_minor": 5
}
