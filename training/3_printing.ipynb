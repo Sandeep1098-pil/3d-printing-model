{
 "cells": [
  {
   "metadata": {},
   "cell_type": "markdown",
   "source": "### Importing Datasets",
   "id": "442f377cd4ec8046"
  },
  {
   "cell_type": "code",
   "id": "initial_id",
   "metadata": {
    "collapsed": true,
    "ExecuteTime": {
     "end_time": "2025-10-13T18:24:21.749938Z",
     "start_time": "2025-10-13T18:24:21.742278Z"
    }
   },
   "source": [
    "import pandas as pd\n",
    "import numpy as np\n",
    "from matplotlib import pyplot as plt\n",
    "import seaborn as sns\n",
    "from sklearn.model_selection import train_test_split\n",
    "from sklearn.ensemble import RandomForestClassifier\n",
    "from sklearn.metrics import classification_report, accuracy_score, confusion_matrix, roc_auc_score, f1_score,precision_score, recall_score\n",
    "from sklearn.model_selection import cross_val_score\n",
    "from sklearn.preprocessing import MinMaxScaler\n",
    "from sklearn.model_selection import RandomizedSearchCV\n",
    "from sklearn.model_selection import StratifiedKFold\n",
    "from sklearn.linear_model import LogisticRegression\n",
    "import warnings\n",
    "warnings.filterwarnings(\"ignore\")"
   ],
   "outputs": [],
   "execution_count": 254
  },
  {
   "metadata": {},
   "cell_type": "markdown",
   "source": "#### Data collection",
   "id": "61eac975d461aa63"
  },
  {
   "metadata": {
    "ExecuteTime": {
     "end_time": "2025-10-13T18:24:21.782540Z",
     "start_time": "2025-10-13T18:24:21.773290Z"
    }
   },
   "cell_type": "code",
   "source": [
    "datapath = r\"C:\\Users\\USER\\3d-printing-model\\dataset\\dataset.csv\"\n",
    "DataFrame= pd.read_csv(datapath)"
   ],
   "id": "a9914caa7cfa7ad3",
   "outputs": [],
   "execution_count": 255
  },
  {
   "metadata": {
    "ExecuteTime": {
     "end_time": "2025-10-13T18:24:21.821087Z",
     "start_time": "2025-10-13T18:24:21.796516Z"
    }
   },
   "cell_type": "code",
   "source": [
    "print(\"DataFrame loaded successfully.\")\n",
    "DataFrame=pd.DataFrame(DataFrame)\n",
    "DataFrame"
   ],
   "id": "ba7cce5e9c49dab2",
   "outputs": [
    {
     "name": "stdout",
     "output_type": "stream",
     "text": [
      "DataFrame loaded successfully.\n"
     ]
    },
    {
     "data": {
      "text/plain": [
       "    layer_height  wall_thickness  infill_density infill_pattern  \\\n",
       "0           0.02             8.0              90           grid   \n",
       "1           0.02             7.0              90      honeycomb   \n",
       "2           0.02             1.0              80           grid   \n",
       "3           0.02             4.0              70      honeycomb   \n",
       "4           0.02             6.0              90           grid   \n",
       "..           ...             ...             ...            ...   \n",
       "61          0.06             9.0              10      honeycomb   \n",
       "62          0.04             2.0              80           grid   \n",
       "63          0.02             4.5              70      honeycomb   \n",
       "64          0.05             6.0              10      honeycomb   \n",
       "65          0.15             1.0              50           grid   \n",
       "\n",
       "    nozzle_temperature  bed_temperature  print_speed material  fan_speed  \\\n",
       "0                  220               60           40      abs          0   \n",
       "1                  225               65           40      abs         25   \n",
       "2                  230               70           40      abs         50   \n",
       "3                  240               75           40      abs         75   \n",
       "4                  250               80           40      abs        100   \n",
       "..                 ...              ...          ...      ...        ...   \n",
       "61                 200               75           80      abs         75   \n",
       "62                 230               70           40      abs         50   \n",
       "63                 240               85           40      abs         75   \n",
       "64                 245               75           85      abs         75   \n",
       "65                 220               60          120      abs          0   \n",
       "\n",
       "    roughness  tension_strenght  elongation  \n",
       "0          25                18         1.2  \n",
       "1          32                16         1.4  \n",
       "2          40                 8         0.8  \n",
       "3          68                10         0.5  \n",
       "4          92                 5         0.7  \n",
       "..        ...               ...         ...  \n",
       "61        200                 9         0.9  \n",
       "62         40                12         0.8  \n",
       "63         68                10         0.8  \n",
       "64        205                 5         0.5  \n",
       "65        120                16         1.5  \n",
       "\n",
       "[66 rows x 12 columns]"
      ],
      "text/html": [
       "<div>\n",
       "<style scoped>\n",
       "    .dataframe tbody tr th:only-of-type {\n",
       "        vertical-align: middle;\n",
       "    }\n",
       "\n",
       "    .dataframe tbody tr th {\n",
       "        vertical-align: top;\n",
       "    }\n",
       "\n",
       "    .dataframe thead th {\n",
       "        text-align: right;\n",
       "    }\n",
       "</style>\n",
       "<table border=\"1\" class=\"dataframe\">\n",
       "  <thead>\n",
       "    <tr style=\"text-align: right;\">\n",
       "      <th></th>\n",
       "      <th>layer_height</th>\n",
       "      <th>wall_thickness</th>\n",
       "      <th>infill_density</th>\n",
       "      <th>infill_pattern</th>\n",
       "      <th>nozzle_temperature</th>\n",
       "      <th>bed_temperature</th>\n",
       "      <th>print_speed</th>\n",
       "      <th>material</th>\n",
       "      <th>fan_speed</th>\n",
       "      <th>roughness</th>\n",
       "      <th>tension_strenght</th>\n",
       "      <th>elongation</th>\n",
       "    </tr>\n",
       "  </thead>\n",
       "  <tbody>\n",
       "    <tr>\n",
       "      <th>0</th>\n",
       "      <td>0.02</td>\n",
       "      <td>8.0</td>\n",
       "      <td>90</td>\n",
       "      <td>grid</td>\n",
       "      <td>220</td>\n",
       "      <td>60</td>\n",
       "      <td>40</td>\n",
       "      <td>abs</td>\n",
       "      <td>0</td>\n",
       "      <td>25</td>\n",
       "      <td>18</td>\n",
       "      <td>1.2</td>\n",
       "    </tr>\n",
       "    <tr>\n",
       "      <th>1</th>\n",
       "      <td>0.02</td>\n",
       "      <td>7.0</td>\n",
       "      <td>90</td>\n",
       "      <td>honeycomb</td>\n",
       "      <td>225</td>\n",
       "      <td>65</td>\n",
       "      <td>40</td>\n",
       "      <td>abs</td>\n",
       "      <td>25</td>\n",
       "      <td>32</td>\n",
       "      <td>16</td>\n",
       "      <td>1.4</td>\n",
       "    </tr>\n",
       "    <tr>\n",
       "      <th>2</th>\n",
       "      <td>0.02</td>\n",
       "      <td>1.0</td>\n",
       "      <td>80</td>\n",
       "      <td>grid</td>\n",
       "      <td>230</td>\n",
       "      <td>70</td>\n",
       "      <td>40</td>\n",
       "      <td>abs</td>\n",
       "      <td>50</td>\n",
       "      <td>40</td>\n",
       "      <td>8</td>\n",
       "      <td>0.8</td>\n",
       "    </tr>\n",
       "    <tr>\n",
       "      <th>3</th>\n",
       "      <td>0.02</td>\n",
       "      <td>4.0</td>\n",
       "      <td>70</td>\n",
       "      <td>honeycomb</td>\n",
       "      <td>240</td>\n",
       "      <td>75</td>\n",
       "      <td>40</td>\n",
       "      <td>abs</td>\n",
       "      <td>75</td>\n",
       "      <td>68</td>\n",
       "      <td>10</td>\n",
       "      <td>0.5</td>\n",
       "    </tr>\n",
       "    <tr>\n",
       "      <th>4</th>\n",
       "      <td>0.02</td>\n",
       "      <td>6.0</td>\n",
       "      <td>90</td>\n",
       "      <td>grid</td>\n",
       "      <td>250</td>\n",
       "      <td>80</td>\n",
       "      <td>40</td>\n",
       "      <td>abs</td>\n",
       "      <td>100</td>\n",
       "      <td>92</td>\n",
       "      <td>5</td>\n",
       "      <td>0.7</td>\n",
       "    </tr>\n",
       "    <tr>\n",
       "      <th>...</th>\n",
       "      <td>...</td>\n",
       "      <td>...</td>\n",
       "      <td>...</td>\n",
       "      <td>...</td>\n",
       "      <td>...</td>\n",
       "      <td>...</td>\n",
       "      <td>...</td>\n",
       "      <td>...</td>\n",
       "      <td>...</td>\n",
       "      <td>...</td>\n",
       "      <td>...</td>\n",
       "      <td>...</td>\n",
       "    </tr>\n",
       "    <tr>\n",
       "      <th>61</th>\n",
       "      <td>0.06</td>\n",
       "      <td>9.0</td>\n",
       "      <td>10</td>\n",
       "      <td>honeycomb</td>\n",
       "      <td>200</td>\n",
       "      <td>75</td>\n",
       "      <td>80</td>\n",
       "      <td>abs</td>\n",
       "      <td>75</td>\n",
       "      <td>200</td>\n",
       "      <td>9</td>\n",
       "      <td>0.9</td>\n",
       "    </tr>\n",
       "    <tr>\n",
       "      <th>62</th>\n",
       "      <td>0.04</td>\n",
       "      <td>2.0</td>\n",
       "      <td>80</td>\n",
       "      <td>grid</td>\n",
       "      <td>230</td>\n",
       "      <td>70</td>\n",
       "      <td>40</td>\n",
       "      <td>abs</td>\n",
       "      <td>50</td>\n",
       "      <td>40</td>\n",
       "      <td>12</td>\n",
       "      <td>0.8</td>\n",
       "    </tr>\n",
       "    <tr>\n",
       "      <th>63</th>\n",
       "      <td>0.02</td>\n",
       "      <td>4.5</td>\n",
       "      <td>70</td>\n",
       "      <td>honeycomb</td>\n",
       "      <td>240</td>\n",
       "      <td>85</td>\n",
       "      <td>40</td>\n",
       "      <td>abs</td>\n",
       "      <td>75</td>\n",
       "      <td>68</td>\n",
       "      <td>10</td>\n",
       "      <td>0.8</td>\n",
       "    </tr>\n",
       "    <tr>\n",
       "      <th>64</th>\n",
       "      <td>0.05</td>\n",
       "      <td>6.0</td>\n",
       "      <td>10</td>\n",
       "      <td>honeycomb</td>\n",
       "      <td>245</td>\n",
       "      <td>75</td>\n",
       "      <td>85</td>\n",
       "      <td>abs</td>\n",
       "      <td>75</td>\n",
       "      <td>205</td>\n",
       "      <td>5</td>\n",
       "      <td>0.5</td>\n",
       "    </tr>\n",
       "    <tr>\n",
       "      <th>65</th>\n",
       "      <td>0.15</td>\n",
       "      <td>1.0</td>\n",
       "      <td>50</td>\n",
       "      <td>grid</td>\n",
       "      <td>220</td>\n",
       "      <td>60</td>\n",
       "      <td>120</td>\n",
       "      <td>abs</td>\n",
       "      <td>0</td>\n",
       "      <td>120</td>\n",
       "      <td>16</td>\n",
       "      <td>1.5</td>\n",
       "    </tr>\n",
       "  </tbody>\n",
       "</table>\n",
       "<p>66 rows × 12 columns</p>\n",
       "</div>"
      ]
     },
     "execution_count": 256,
     "metadata": {},
     "output_type": "execute_result"
    }
   ],
   "execution_count": 256
  },
  {
   "metadata": {},
   "cell_type": "markdown",
   "source": "#### Data Pre-Preprocessing",
   "id": "f67f771c84a2caf6"
  },
  {
   "metadata": {
    "ExecuteTime": {
     "end_time": "2025-10-13T18:24:21.943336Z",
     "start_time": "2025-10-13T18:24:21.922958Z"
    }
   },
   "cell_type": "code",
   "source": [
    "#printing the first 5 rows of the DataFrame\n",
    "print(\"First 5 rows of the DataFrame:\")\n",
    "DataFrame.head()\n",
    "\n"
   ],
   "id": "4213b3fb35706312",
   "outputs": [
    {
     "name": "stdout",
     "output_type": "stream",
     "text": [
      "First 5 rows of the DataFrame:\n"
     ]
    },
    {
     "data": {
      "text/plain": [
       "   layer_height  wall_thickness  infill_density infill_pattern  \\\n",
       "0          0.02             8.0              90           grid   \n",
       "1          0.02             7.0              90      honeycomb   \n",
       "2          0.02             1.0              80           grid   \n",
       "3          0.02             4.0              70      honeycomb   \n",
       "4          0.02             6.0              90           grid   \n",
       "\n",
       "   nozzle_temperature  bed_temperature  print_speed material  fan_speed  \\\n",
       "0                 220               60           40      abs          0   \n",
       "1                 225               65           40      abs         25   \n",
       "2                 230               70           40      abs         50   \n",
       "3                 240               75           40      abs         75   \n",
       "4                 250               80           40      abs        100   \n",
       "\n",
       "   roughness  tension_strenght  elongation  \n",
       "0         25                18         1.2  \n",
       "1         32                16         1.4  \n",
       "2         40                 8         0.8  \n",
       "3         68                10         0.5  \n",
       "4         92                 5         0.7  "
      ],
      "text/html": [
       "<div>\n",
       "<style scoped>\n",
       "    .dataframe tbody tr th:only-of-type {\n",
       "        vertical-align: middle;\n",
       "    }\n",
       "\n",
       "    .dataframe tbody tr th {\n",
       "        vertical-align: top;\n",
       "    }\n",
       "\n",
       "    .dataframe thead th {\n",
       "        text-align: right;\n",
       "    }\n",
       "</style>\n",
       "<table border=\"1\" class=\"dataframe\">\n",
       "  <thead>\n",
       "    <tr style=\"text-align: right;\">\n",
       "      <th></th>\n",
       "      <th>layer_height</th>\n",
       "      <th>wall_thickness</th>\n",
       "      <th>infill_density</th>\n",
       "      <th>infill_pattern</th>\n",
       "      <th>nozzle_temperature</th>\n",
       "      <th>bed_temperature</th>\n",
       "      <th>print_speed</th>\n",
       "      <th>material</th>\n",
       "      <th>fan_speed</th>\n",
       "      <th>roughness</th>\n",
       "      <th>tension_strenght</th>\n",
       "      <th>elongation</th>\n",
       "    </tr>\n",
       "  </thead>\n",
       "  <tbody>\n",
       "    <tr>\n",
       "      <th>0</th>\n",
       "      <td>0.02</td>\n",
       "      <td>8.0</td>\n",
       "      <td>90</td>\n",
       "      <td>grid</td>\n",
       "      <td>220</td>\n",
       "      <td>60</td>\n",
       "      <td>40</td>\n",
       "      <td>abs</td>\n",
       "      <td>0</td>\n",
       "      <td>25</td>\n",
       "      <td>18</td>\n",
       "      <td>1.2</td>\n",
       "    </tr>\n",
       "    <tr>\n",
       "      <th>1</th>\n",
       "      <td>0.02</td>\n",
       "      <td>7.0</td>\n",
       "      <td>90</td>\n",
       "      <td>honeycomb</td>\n",
       "      <td>225</td>\n",
       "      <td>65</td>\n",
       "      <td>40</td>\n",
       "      <td>abs</td>\n",
       "      <td>25</td>\n",
       "      <td>32</td>\n",
       "      <td>16</td>\n",
       "      <td>1.4</td>\n",
       "    </tr>\n",
       "    <tr>\n",
       "      <th>2</th>\n",
       "      <td>0.02</td>\n",
       "      <td>1.0</td>\n",
       "      <td>80</td>\n",
       "      <td>grid</td>\n",
       "      <td>230</td>\n",
       "      <td>70</td>\n",
       "      <td>40</td>\n",
       "      <td>abs</td>\n",
       "      <td>50</td>\n",
       "      <td>40</td>\n",
       "      <td>8</td>\n",
       "      <td>0.8</td>\n",
       "    </tr>\n",
       "    <tr>\n",
       "      <th>3</th>\n",
       "      <td>0.02</td>\n",
       "      <td>4.0</td>\n",
       "      <td>70</td>\n",
       "      <td>honeycomb</td>\n",
       "      <td>240</td>\n",
       "      <td>75</td>\n",
       "      <td>40</td>\n",
       "      <td>abs</td>\n",
       "      <td>75</td>\n",
       "      <td>68</td>\n",
       "      <td>10</td>\n",
       "      <td>0.5</td>\n",
       "    </tr>\n",
       "    <tr>\n",
       "      <th>4</th>\n",
       "      <td>0.02</td>\n",
       "      <td>6.0</td>\n",
       "      <td>90</td>\n",
       "      <td>grid</td>\n",
       "      <td>250</td>\n",
       "      <td>80</td>\n",
       "      <td>40</td>\n",
       "      <td>abs</td>\n",
       "      <td>100</td>\n",
       "      <td>92</td>\n",
       "      <td>5</td>\n",
       "      <td>0.7</td>\n",
       "    </tr>\n",
       "  </tbody>\n",
       "</table>\n",
       "</div>"
      ]
     },
     "execution_count": 257,
     "metadata": {},
     "output_type": "execute_result"
    }
   ],
   "execution_count": 257
  },
  {
   "metadata": {
    "ExecuteTime": {
     "end_time": "2025-10-13T18:24:22.046864Z",
     "start_time": "2025-10-13T18:24:22.028791Z"
    }
   },
   "cell_type": "code",
   "source": [
    "#printing the last 5 rows of the DataFrame\n",
    "print(\"Last 5 rows of the DataFrame:\")\n",
    "DataFrame.tail()"
   ],
   "id": "49ef3e11461dd748",
   "outputs": [
    {
     "name": "stdout",
     "output_type": "stream",
     "text": [
      "Last 5 rows of the DataFrame:\n"
     ]
    },
    {
     "data": {
      "text/plain": [
       "    layer_height  wall_thickness  infill_density infill_pattern  \\\n",
       "61          0.06             9.0              10      honeycomb   \n",
       "62          0.04             2.0              80           grid   \n",
       "63          0.02             4.5              70      honeycomb   \n",
       "64          0.05             6.0              10      honeycomb   \n",
       "65          0.15             1.0              50           grid   \n",
       "\n",
       "    nozzle_temperature  bed_temperature  print_speed material  fan_speed  \\\n",
       "61                 200               75           80      abs         75   \n",
       "62                 230               70           40      abs         50   \n",
       "63                 240               85           40      abs         75   \n",
       "64                 245               75           85      abs         75   \n",
       "65                 220               60          120      abs          0   \n",
       "\n",
       "    roughness  tension_strenght  elongation  \n",
       "61        200                 9         0.9  \n",
       "62         40                12         0.8  \n",
       "63         68                10         0.8  \n",
       "64        205                 5         0.5  \n",
       "65        120                16         1.5  "
      ],
      "text/html": [
       "<div>\n",
       "<style scoped>\n",
       "    .dataframe tbody tr th:only-of-type {\n",
       "        vertical-align: middle;\n",
       "    }\n",
       "\n",
       "    .dataframe tbody tr th {\n",
       "        vertical-align: top;\n",
       "    }\n",
       "\n",
       "    .dataframe thead th {\n",
       "        text-align: right;\n",
       "    }\n",
       "</style>\n",
       "<table border=\"1\" class=\"dataframe\">\n",
       "  <thead>\n",
       "    <tr style=\"text-align: right;\">\n",
       "      <th></th>\n",
       "      <th>layer_height</th>\n",
       "      <th>wall_thickness</th>\n",
       "      <th>infill_density</th>\n",
       "      <th>infill_pattern</th>\n",
       "      <th>nozzle_temperature</th>\n",
       "      <th>bed_temperature</th>\n",
       "      <th>print_speed</th>\n",
       "      <th>material</th>\n",
       "      <th>fan_speed</th>\n",
       "      <th>roughness</th>\n",
       "      <th>tension_strenght</th>\n",
       "      <th>elongation</th>\n",
       "    </tr>\n",
       "  </thead>\n",
       "  <tbody>\n",
       "    <tr>\n",
       "      <th>61</th>\n",
       "      <td>0.06</td>\n",
       "      <td>9.0</td>\n",
       "      <td>10</td>\n",
       "      <td>honeycomb</td>\n",
       "      <td>200</td>\n",
       "      <td>75</td>\n",
       "      <td>80</td>\n",
       "      <td>abs</td>\n",
       "      <td>75</td>\n",
       "      <td>200</td>\n",
       "      <td>9</td>\n",
       "      <td>0.9</td>\n",
       "    </tr>\n",
       "    <tr>\n",
       "      <th>62</th>\n",
       "      <td>0.04</td>\n",
       "      <td>2.0</td>\n",
       "      <td>80</td>\n",
       "      <td>grid</td>\n",
       "      <td>230</td>\n",
       "      <td>70</td>\n",
       "      <td>40</td>\n",
       "      <td>abs</td>\n",
       "      <td>50</td>\n",
       "      <td>40</td>\n",
       "      <td>12</td>\n",
       "      <td>0.8</td>\n",
       "    </tr>\n",
       "    <tr>\n",
       "      <th>63</th>\n",
       "      <td>0.02</td>\n",
       "      <td>4.5</td>\n",
       "      <td>70</td>\n",
       "      <td>honeycomb</td>\n",
       "      <td>240</td>\n",
       "      <td>85</td>\n",
       "      <td>40</td>\n",
       "      <td>abs</td>\n",
       "      <td>75</td>\n",
       "      <td>68</td>\n",
       "      <td>10</td>\n",
       "      <td>0.8</td>\n",
       "    </tr>\n",
       "    <tr>\n",
       "      <th>64</th>\n",
       "      <td>0.05</td>\n",
       "      <td>6.0</td>\n",
       "      <td>10</td>\n",
       "      <td>honeycomb</td>\n",
       "      <td>245</td>\n",
       "      <td>75</td>\n",
       "      <td>85</td>\n",
       "      <td>abs</td>\n",
       "      <td>75</td>\n",
       "      <td>205</td>\n",
       "      <td>5</td>\n",
       "      <td>0.5</td>\n",
       "    </tr>\n",
       "    <tr>\n",
       "      <th>65</th>\n",
       "      <td>0.15</td>\n",
       "      <td>1.0</td>\n",
       "      <td>50</td>\n",
       "      <td>grid</td>\n",
       "      <td>220</td>\n",
       "      <td>60</td>\n",
       "      <td>120</td>\n",
       "      <td>abs</td>\n",
       "      <td>0</td>\n",
       "      <td>120</td>\n",
       "      <td>16</td>\n",
       "      <td>1.5</td>\n",
       "    </tr>\n",
       "  </tbody>\n",
       "</table>\n",
       "</div>"
      ]
     },
     "execution_count": 258,
     "metadata": {},
     "output_type": "execute_result"
    }
   ],
   "execution_count": 258
  },
  {
   "metadata": {
    "ExecuteTime": {
     "end_time": "2025-10-13T18:24:22.181986Z",
     "start_time": "2025-10-13T18:24:22.175937Z"
    }
   },
   "cell_type": "code",
   "source": [
    "#Shape of the DataFrame\n",
    "print(f\"The shape of the DataFrame is: {DataFrame.shape[1]} columns\")\n",
    "print(f\"The shape of the DataFrame is: {DataFrame.shape[0]} rows\")"
   ],
   "id": "3ab6663e00193356",
   "outputs": [
    {
     "name": "stdout",
     "output_type": "stream",
     "text": [
      "The shape of the DataFrame is: 12 columns\n",
      "The shape of the DataFrame is: 66 rows\n"
     ]
    }
   ],
   "execution_count": 259
  },
  {
   "metadata": {
    "ExecuteTime": {
     "end_time": "2025-10-13T18:24:22.278346Z",
     "start_time": "2025-10-13T18:24:22.265710Z"
    }
   },
   "cell_type": "code",
   "source": [
    "#checking the info of the DataFrame\n",
    "print(\"=\"*80)\n",
    "print(\"DATAFRAME STRUCTURE OVERVIEW\".center(80))\n",
    "print(\"=\"*80)\n",
    "info_str = DataFrame.info()\n",
    "print(info_str)\n"
   ],
   "id": "86b83ee2b433cc22",
   "outputs": [
    {
     "name": "stdout",
     "output_type": "stream",
     "text": [
      "================================================================================\n",
      "                          DATAFRAME STRUCTURE OVERVIEW                          \n",
      "================================================================================\n",
      "<class 'pandas.core.frame.DataFrame'>\n",
      "RangeIndex: 66 entries, 0 to 65\n",
      "Data columns (total 12 columns):\n",
      " #   Column              Non-Null Count  Dtype  \n",
      "---  ------              --------------  -----  \n",
      " 0   layer_height        66 non-null     float64\n",
      " 1   wall_thickness      66 non-null     float64\n",
      " 2   infill_density      66 non-null     int64  \n",
      " 3   infill_pattern      66 non-null     object \n",
      " 4   nozzle_temperature  66 non-null     int64  \n",
      " 5   bed_temperature     66 non-null     int64  \n",
      " 6   print_speed         66 non-null     int64  \n",
      " 7   material            66 non-null     object \n",
      " 8   fan_speed           66 non-null     int64  \n",
      " 9   roughness           66 non-null     int64  \n",
      " 10  tension_strenght    66 non-null     int64  \n",
      " 11  elongation          66 non-null     float64\n",
      "dtypes: float64(3), int64(7), object(2)\n",
      "memory usage: 6.3+ KB\n",
      "None\n"
     ]
    }
   ],
   "execution_count": 260
  },
  {
   "metadata": {
    "ExecuteTime": {
     "end_time": "2025-10-13T18:24:22.411416Z",
     "start_time": "2025-10-13T18:24:22.364648Z"
    }
   },
   "cell_type": "code",
   "source": [
    "\n",
    "print(\"STATISTICAL SUMMARY OF THE DATAFRAME\")\n",
    "\n",
    "summary = DataFrame.describe()\n",
    "summary"
   ],
   "id": "bfbca61b93860022",
   "outputs": [
    {
     "name": "stdout",
     "output_type": "stream",
     "text": [
      "STATISTICAL SUMMARY OF THE DATAFRAME\n"
     ]
    },
    {
     "data": {
      "text/plain": [
       "       layer_height  wall_thickness  infill_density  nozzle_temperature  \\\n",
       "count     66.000000       66.000000       66.000000           66.000000   \n",
       "mean       0.098182        5.583333       54.727273          222.272727   \n",
       "std        0.062608        2.952943       27.545512           15.094110   \n",
       "min        0.020000        1.000000       10.000000          200.000000   \n",
       "25%        0.052500        3.000000       40.000000          210.000000   \n",
       "50%        0.100000        6.000000       50.000000          220.000000   \n",
       "75%        0.150000        8.000000       80.000000          230.000000   \n",
       "max        0.200000       12.000000      100.000000          250.000000   \n",
       "\n",
       "       bed_temperature  print_speed   fan_speed   roughness  tension_strenght  \\\n",
       "count        66.000000    66.000000   66.000000   66.000000         66.000000   \n",
       "mean         70.378788    64.242424   48.530303  160.545455         19.757576   \n",
       "std           8.651839    28.598580   35.834328   95.703899          9.202108   \n",
       "min          60.000000    40.000000    0.000000   21.000000          4.000000   \n",
       "25%          65.000000    40.000000   25.000000   78.250000         12.000000   \n",
       "50%          70.000000    60.000000   50.000000  149.500000         18.500000   \n",
       "75%          75.000000    60.000000   75.000000  220.000000         27.000000   \n",
       "max         100.000000   120.000000  100.000000  368.000000         38.000000   \n",
       "\n",
       "       elongation  \n",
       "count   66.000000  \n",
       "mean     1.625000  \n",
       "std      0.762498  \n",
       "min      0.400000  \n",
       "25%      1.025000  \n",
       "50%      1.500000  \n",
       "75%      2.175000  \n",
       "max      3.300000  "
      ],
      "text/html": [
       "<div>\n",
       "<style scoped>\n",
       "    .dataframe tbody tr th:only-of-type {\n",
       "        vertical-align: middle;\n",
       "    }\n",
       "\n",
       "    .dataframe tbody tr th {\n",
       "        vertical-align: top;\n",
       "    }\n",
       "\n",
       "    .dataframe thead th {\n",
       "        text-align: right;\n",
       "    }\n",
       "</style>\n",
       "<table border=\"1\" class=\"dataframe\">\n",
       "  <thead>\n",
       "    <tr style=\"text-align: right;\">\n",
       "      <th></th>\n",
       "      <th>layer_height</th>\n",
       "      <th>wall_thickness</th>\n",
       "      <th>infill_density</th>\n",
       "      <th>nozzle_temperature</th>\n",
       "      <th>bed_temperature</th>\n",
       "      <th>print_speed</th>\n",
       "      <th>fan_speed</th>\n",
       "      <th>roughness</th>\n",
       "      <th>tension_strenght</th>\n",
       "      <th>elongation</th>\n",
       "    </tr>\n",
       "  </thead>\n",
       "  <tbody>\n",
       "    <tr>\n",
       "      <th>count</th>\n",
       "      <td>66.000000</td>\n",
       "      <td>66.000000</td>\n",
       "      <td>66.000000</td>\n",
       "      <td>66.000000</td>\n",
       "      <td>66.000000</td>\n",
       "      <td>66.000000</td>\n",
       "      <td>66.000000</td>\n",
       "      <td>66.000000</td>\n",
       "      <td>66.000000</td>\n",
       "      <td>66.000000</td>\n",
       "    </tr>\n",
       "    <tr>\n",
       "      <th>mean</th>\n",
       "      <td>0.098182</td>\n",
       "      <td>5.583333</td>\n",
       "      <td>54.727273</td>\n",
       "      <td>222.272727</td>\n",
       "      <td>70.378788</td>\n",
       "      <td>64.242424</td>\n",
       "      <td>48.530303</td>\n",
       "      <td>160.545455</td>\n",
       "      <td>19.757576</td>\n",
       "      <td>1.625000</td>\n",
       "    </tr>\n",
       "    <tr>\n",
       "      <th>std</th>\n",
       "      <td>0.062608</td>\n",
       "      <td>2.952943</td>\n",
       "      <td>27.545512</td>\n",
       "      <td>15.094110</td>\n",
       "      <td>8.651839</td>\n",
       "      <td>28.598580</td>\n",
       "      <td>35.834328</td>\n",
       "      <td>95.703899</td>\n",
       "      <td>9.202108</td>\n",
       "      <td>0.762498</td>\n",
       "    </tr>\n",
       "    <tr>\n",
       "      <th>min</th>\n",
       "      <td>0.020000</td>\n",
       "      <td>1.000000</td>\n",
       "      <td>10.000000</td>\n",
       "      <td>200.000000</td>\n",
       "      <td>60.000000</td>\n",
       "      <td>40.000000</td>\n",
       "      <td>0.000000</td>\n",
       "      <td>21.000000</td>\n",
       "      <td>4.000000</td>\n",
       "      <td>0.400000</td>\n",
       "    </tr>\n",
       "    <tr>\n",
       "      <th>25%</th>\n",
       "      <td>0.052500</td>\n",
       "      <td>3.000000</td>\n",
       "      <td>40.000000</td>\n",
       "      <td>210.000000</td>\n",
       "      <td>65.000000</td>\n",
       "      <td>40.000000</td>\n",
       "      <td>25.000000</td>\n",
       "      <td>78.250000</td>\n",
       "      <td>12.000000</td>\n",
       "      <td>1.025000</td>\n",
       "    </tr>\n",
       "    <tr>\n",
       "      <th>50%</th>\n",
       "      <td>0.100000</td>\n",
       "      <td>6.000000</td>\n",
       "      <td>50.000000</td>\n",
       "      <td>220.000000</td>\n",
       "      <td>70.000000</td>\n",
       "      <td>60.000000</td>\n",
       "      <td>50.000000</td>\n",
       "      <td>149.500000</td>\n",
       "      <td>18.500000</td>\n",
       "      <td>1.500000</td>\n",
       "    </tr>\n",
       "    <tr>\n",
       "      <th>75%</th>\n",
       "      <td>0.150000</td>\n",
       "      <td>8.000000</td>\n",
       "      <td>80.000000</td>\n",
       "      <td>230.000000</td>\n",
       "      <td>75.000000</td>\n",
       "      <td>60.000000</td>\n",
       "      <td>75.000000</td>\n",
       "      <td>220.000000</td>\n",
       "      <td>27.000000</td>\n",
       "      <td>2.175000</td>\n",
       "    </tr>\n",
       "    <tr>\n",
       "      <th>max</th>\n",
       "      <td>0.200000</td>\n",
       "      <td>12.000000</td>\n",
       "      <td>100.000000</td>\n",
       "      <td>250.000000</td>\n",
       "      <td>100.000000</td>\n",
       "      <td>120.000000</td>\n",
       "      <td>100.000000</td>\n",
       "      <td>368.000000</td>\n",
       "      <td>38.000000</td>\n",
       "      <td>3.300000</td>\n",
       "    </tr>\n",
       "  </tbody>\n",
       "</table>\n",
       "</div>"
      ]
     },
     "execution_count": 261,
     "metadata": {},
     "output_type": "execute_result"
    }
   ],
   "execution_count": 261
  },
  {
   "metadata": {},
   "cell_type": "markdown",
   "source": "##### Data cleaning",
   "id": "896036dbda5907ec"
  },
  {
   "metadata": {
    "ExecuteTime": {
     "end_time": "2025-10-13T18:24:22.500736Z",
     "start_time": "2025-10-13T18:24:22.492373Z"
    }
   },
   "cell_type": "code",
   "source": [
    "## checking duplicate values\n",
    "print(\"=\"*50)\n",
    "print(\"DUPLICATE VALUES CHECK\".center(50))\n",
    "print(\"=\"*50)\n",
    "duplicate_count = DataFrame.duplicated().sum()\n",
    "print(f\"Number of duplicate rows in the DataFrame: {duplicate_count}\")"
   ],
   "id": "e15fa0a9a90731f9",
   "outputs": [
    {
     "name": "stdout",
     "output_type": "stream",
     "text": [
      "==================================================\n",
      "              DUPLICATE VALUES CHECK              \n",
      "==================================================\n",
      "Number of duplicate rows in the DataFrame: 0\n"
     ]
    }
   ],
   "execution_count": 262
  },
  {
   "metadata": {
    "ExecuteTime": {
     "end_time": "2025-10-13T18:24:22.581973Z",
     "start_time": "2025-10-13T18:24:22.574666Z"
    }
   },
   "cell_type": "code",
   "source": [
    "# checking null values in the DataFrame\n",
    "null_values = DataFrame.isnull().sum()\n",
    "print(\"=\"*50)\n",
    "print(\"Null values in each column\".center(50))\n",
    "print(\"=\"*50)\n",
    "print(null_values)"
   ],
   "id": "23eca11a57f39bf7",
   "outputs": [
    {
     "name": "stdout",
     "output_type": "stream",
     "text": [
      "==================================================\n",
      "            Null values in each column            \n",
      "==================================================\n",
      "layer_height          0\n",
      "wall_thickness        0\n",
      "infill_density        0\n",
      "infill_pattern        0\n",
      "nozzle_temperature    0\n",
      "bed_temperature       0\n",
      "print_speed           0\n",
      "material              0\n",
      "fan_speed             0\n",
      "roughness             0\n",
      "tension_strenght      0\n",
      "elongation            0\n",
      "dtype: int64\n"
     ]
    }
   ],
   "execution_count": 263
  },
  {
   "metadata": {
    "ExecuteTime": {
     "end_time": "2025-10-13T18:24:22.678400Z",
     "start_time": "2025-10-13T18:24:22.671030Z"
    }
   },
   "cell_type": "code",
   "source": [
    "## unique values in each column\n",
    "print(\"=\"*100)\n",
    "print(\"Unique values in each column\".center(90))\n",
    "print(\"=\"*100)\n",
    "for col in DataFrame.columns:\n",
    "    print(f\" {col} : {set(DataFrame[col])}\")\n"
   ],
   "id": "359a3671514a2348",
   "outputs": [
    {
     "name": "stdout",
     "output_type": "stream",
     "text": [
      "====================================================================================================\n",
      "                               Unique values in each column                               \n",
      "====================================================================================================\n",
      " layer_height : {0.1, 0.06, 0.09, 0.15, 0.2, 0.03, 0.05, 0.04, 0.02}\n",
      " wall_thickness : {1.0, 2.0, 3.0, 4.0, 5.0, 6.0, 7.0, 8.0, 9.0, 10.0, 4.5, 12.0}\n",
      " infill_density : {100, 70, 40, 10, 12, 80, 50, 20, 85, 90, 60, 30, 95}\n",
      " infill_pattern : {'grid', 'honeycomb'}\n",
      " nozzle_temperature : {225, 230, 200, 205, 240, 210, 245, 215, 250, 220}\n",
      " bed_temperature : {65, 100, 70, 75, 80, 85, 60, 95}\n",
      " print_speed : {65, 70, 40, 80, 85, 120, 60}\n",
      " material : {'pla', 'abs'}\n",
      " fan_speed : {0, 100, 75, 50, 25, 28}\n",
      " roughness : {128, 265, 138, 144, 145, 276, 21, 278, 24, 25, 154, 30, 32, 289, 163, 40, 168, 298, 172, 176, 180, 55, 312, 60, 192, 321, 68, 326, 200, 74, 75, 205, 212, 88, 220, 92, 225, 98, 357, 360, 368, 244, 118, 120, 121, 126}\n",
      " tension_strenght : {4, 5, 8, 9, 10, 11, 12, 13, 14, 16, 18, 19, 21, 22, 23, 24, 25, 26, 27, 28, 29, 30, 33, 34, 35, 37, 38}\n",
      " elongation : {0.8, 1.2, 0.7, 1.4, 0.5, 1.1, 0.95, 1.5, 1.7, 2.4, 1.3, 1.0, 2.0, 0.6, 1.6, 2.1, 3.1, 2.2, 2.8, 2.3, 2.7, 3.3, 3.2, 1.8, 1.9, 0.9, 0.4, 2.9}\n"
     ]
    }
   ],
   "execution_count": 264
  },
  {
   "metadata": {
    "ExecuteTime": {
     "end_time": "2025-10-13T18:24:22.749832Z",
     "start_time": "2025-10-13T18:24:22.738828Z"
    }
   },
   "cell_type": "code",
   "source": [
    "##seperating categorical and numerical columns\n",
    "categorical_cols = DataFrame.select_dtypes(include=['object']).columns\n",
    "numerical_cols = DataFrame.select_dtypes(include=['number']).columns\n",
    "\n",
    "print(\"Categorical columns:\", list(categorical_cols))\n",
    "print(\"Numerical columns:\", list(numerical_cols))"
   ],
   "id": "a00c710b60bfb3fc",
   "outputs": [
    {
     "name": "stdout",
     "output_type": "stream",
     "text": [
      "Categorical columns: ['infill_pattern', 'material']\n",
      "Numerical columns: ['layer_height', 'wall_thickness', 'infill_density', 'nozzle_temperature', 'bed_temperature', 'print_speed', 'fan_speed', 'roughness', 'tension_strenght', 'elongation']\n"
     ]
    }
   ],
   "execution_count": 265
  },
  {
   "metadata": {
    "ExecuteTime": {
     "end_time": "2025-10-13T18:24:22.830368Z",
     "start_time": "2025-10-13T18:24:22.820027Z"
    }
   },
   "cell_type": "code",
   "source": [
    "## printing the nuerical coilumns\n",
    "for col in DataFrame.columns:\n",
    "    print(f\"{col}: {DataFrame[col].dtype}\")"
   ],
   "id": "eda1164b2854213",
   "outputs": [
    {
     "name": "stdout",
     "output_type": "stream",
     "text": [
      "layer_height: float64\n",
      "wall_thickness: float64\n",
      "infill_density: int64\n",
      "infill_pattern: object\n",
      "nozzle_temperature: int64\n",
      "bed_temperature: int64\n",
      "print_speed: int64\n",
      "material: object\n",
      "fan_speed: int64\n",
      "roughness: int64\n",
      "tension_strenght: int64\n",
      "elongation: float64\n"
     ]
    }
   ],
   "execution_count": 266
  },
  {
   "metadata": {},
   "cell_type": "markdown",
   "source": "#### Exploratory Data analysis",
   "id": "b48625bb021f717d"
  },
  {
   "metadata": {
    "ExecuteTime": {
     "end_time": "2025-10-13T18:24:23.148908Z",
     "start_time": "2025-10-13T18:24:22.904762Z"
    }
   },
   "cell_type": "code",
   "source": [
    "#checking the count of values in material feature\n",
    "fig, axes = plt.subplots(1, 2, figsize=(9, 8))\n",
    "material_counts = DataFrame['material'].value_counts()\n",
    "infill_values = DataFrame['infill_pattern'].value_counts()\n",
    "\n",
    "axes[0].pie(material_counts, labels=material_counts.index, autopct='%1.1f%%', startangle=90)\n",
    "axes[0].set_title('Material Distribution')\n",
    "axes[1].pie(infill_values, labels=infill_values.index, autopct='%1.1f%%', startangle=90)\n",
    "axes[1].set_title('Infill Pattern Distribution')\n",
    "plt.show()\n",
    "\n",
    "print(DataFrame['material'].value_counts())\n",
    "print('\\n', DataFrame['infill_pattern'].value_counts())"
   ],
   "id": "e3e287cadd270629",
   "outputs": [
    {
     "data": {
      "text/plain": [
       "<Figure size 900x800 with 2 Axes>"
      ],
      "image/png": "[encoded data removed]"
     },
     "metadata": {},
     "output_type": "display_data",
     "jetTransient": {
      "display_id": null
     }
    },
    {
     "name": "stdout",
     "output_type": "stream",
     "text": [
      "material\n",
      "abs    36\n",
      "pla    30\n",
      "Name: count, dtype: int64\n",
      "\n",
      " infill_pattern\n",
      "honeycomb    34\n",
      "grid         32\n",
      "Name: count, dtype: int64\n"
     ]
    }
   ],
   "execution_count": 267
  },
  {
   "metadata": {
    "ExecuteTime": {
     "end_time": "2025-10-13T18:24:23.240329Z",
     "start_time": "2025-10-13T18:24:23.228296Z"
    }
   },
   "cell_type": "code",
   "source": [
    "skewness = DataFrame[numerical_cols].skew()  # Returns skew value for each column\n",
    "print(skewness)"
   ],
   "id": "cc41a55ecb1fccb5",
   "outputs": [
    {
     "name": "stdout",
     "output_type": "stream",
     "text": [
      "layer_height          0.298949\n",
      "wall_thickness        0.114535\n",
      "infill_density       -0.168731\n",
      "nozzle_temperature    0.354103\n",
      "bed_temperature       0.871932\n",
      "print_speed           1.176907\n",
      "fan_speed             0.010153\n",
      "roughness             0.442716\n",
      "tension_strenght      0.194075\n",
      "elongation            0.521892\n",
      "dtype: float64\n"
     ]
    }
   ],
   "execution_count": 268
  },
  {
   "metadata": {
    "ExecuteTime": {
     "end_time": "2025-10-13T18:24:24.746037Z",
     "start_time": "2025-10-13T18:24:23.303642Z"
    }
   },
   "cell_type": "code",
   "source": [
    "\n",
    "fig, ax = plt.subplots(2, 2, figsize=(10,5))\n",
    "sns.histplot(DataFrame['nozzle_temperature'], ax=ax[0,0], kde=True, color=\"green\", edgecolor=\"black\")\n",
    "ax[0,0].set_ylabel('Frequency')\n",
    "\n",
    "sns.histplot(DataFrame['bed_temperature'], ax=ax[0,1], kde=True, color=\"blue\", edgecolor=\"black\")\n",
    "ax[0,1].set_ylabel('Frequency')\n",
    "# Add skewness text to plot\n",
    "sns.histplot(DataFrame['elongation'], ax=ax[1,0], kde=True, color=\"orange\", edgecolor=\"black\")\n",
    "ax[1,0].set_ylabel('Frequency')\n",
    "\n",
    "sns.histplot(DataFrame['print_speed'], ax=ax[1,1], kde=True, color=\"yellow\", edgecolor=\"black\")\n",
    "ax[1,1].set_ylabel('Frequency')\n",
    "plt.tight_layout()\n",
    "plt.show()\n",
    "\n"
   ],
   "id": "cd764c7ec8ceecaf",
   "outputs": [
    {
     "data": {
      "text/plain": [
       "<Figure size 1000x500 with 4 Axes>"
      ],
      "image/png": "[encoded data removed]"
     },
     "metadata": {},
     "output_type": "display_data",
     "jetTransient": {
      "display_id": null
     }
    }
   ],
   "execution_count": 269
  },
  {
   "metadata": {
    "ExecuteTime": {
     "end_time": "2025-10-13T18:24:25.037135Z",
     "start_time": "2025-10-13T18:24:24.761023Z"
    }
   },
   "cell_type": "code",
   "source": [
    "plt.figure(figsize=(5,5))\n",
    "sns.countplot(data=DataFrame, x='material', hue='infill_pattern', palette='Set3')\n",
    "plt.show()\n",
    "#cross table for material and infill_pattern\n",
    "cross_tab = pd.crosstab(DataFrame['material'], DataFrame['infill_pattern'])\n",
    "print(cross_tab)\n"
   ],
   "id": "eee610785162a783",
   "outputs": [
    {
     "data": {
      "text/plain": [
       "<Figure size 500x500 with 1 Axes>"
      ],
      "image/png": "[encoded data removed]"
     },
     "metadata": {},
     "output_type": "display_data",
     "jetTransient": {
      "display_id": null
     }
    },
    {
     "name": "stdout",
     "output_type": "stream",
     "text": [
      "infill_pattern  grid  honeycomb\n",
      "material                       \n",
      "abs               20         16\n",
      "pla               12         18\n"
     ]
    }
   ],
   "execution_count": 270
  },
  {
   "metadata": {
    "ExecuteTime": {
     "end_time": "2025-10-13T18:24:26.137943Z",
     "start_time": "2025-10-13T18:24:25.087566Z"
    }
   },
   "cell_type": "code",
   "source": [
    "\n",
    "fig, axes = plt.subplots(2, 2, figsize=(9,5))\n",
    "sns.boxplot(data=DataFrame, x='material', y='infill_density', ax=axes[0, 0])\n",
    "axes[0, 0].set_title('Infill Density by Material')\n",
    "sns.boxplot(data=DataFrame, x='material', y='tension_strenght', ax=axes[0, 1])\n",
    "axes[0, 1].set_title('Tension Strength by Material')\n",
    "sns.boxplot(data=DataFrame, x='material', y='roughness', ax=axes[1, 0])\n",
    "axes[1, 0].set_title('Roughness by Material')\n",
    "sns.boxplot(data=DataFrame, x='material', y='print_speed', ax=axes[1, 1])\n",
    "axes[1, 1].set_title('Fan Speed by Material')\n",
    "plt.tight_layout()\n",
    "plt.show()\n"
   ],
   "id": "69eb35e4a255d255",
   "outputs": [
    {
     "data": {
      "text/plain": [
       "<Figure size 900x500 with 4 Axes>"
      ],
      "image/png": "[encoded data removed]"
     },
     "metadata": {},
     "output_type": "display_data",
     "jetTransient": {
      "display_id": null
     }
    }
   ],
   "execution_count": 271
  },
  {
   "metadata": {
    "ExecuteTime": {
     "end_time": "2025-10-13T18:24:26.217700Z",
     "start_time": "2025-10-13T18:24:26.179865Z"
    }
   },
   "cell_type": "code",
   "source": [
    "# Detect and cap outliers using IQR method\n",
    "for col in numerical_cols:\n",
    "    Q1 = DataFrame[col].quantile(0.25)\n",
    "    Q3 = DataFrame[col].quantile(0.75)\n",
    "    IQR = Q3 - Q1\n",
    "    lower = Q1 - 1.5 * IQR\n",
    "    upper = Q3 + 1.5 * IQR\n",
    "\n",
    "    DataFrame[col] = np.where(DataFrame[col] < lower, lower, DataFrame[col])\n",
    "    DataFrame[col] = np.where(DataFrame[col] > upper, upper, DataFrame[col])\n",
    "\n",
    "    outlier_count = ((DataFrame[col] < lower) | (DataFrame[col] > upper)).sum()\n",
    "    print(f\"{col}: {outlier_count} outliers\")\n"
   ],
   "id": "ebe324a1b954f9b7",
   "outputs": [
    {
     "name": "stdout",
     "output_type": "stream",
     "text": [
      "layer_height: 0 outliers\n",
      "wall_thickness: 0 outliers\n",
      "infill_density: 0 outliers\n",
      "nozzle_temperature: 0 outliers\n",
      "bed_temperature: 0 outliers\n",
      "print_speed: 0 outliers\n",
      "fan_speed: 0 outliers\n",
      "roughness: 0 outliers\n",
      "tension_strenght: 0 outliers\n",
      "elongation: 0 outliers\n"
     ]
    }
   ],
   "execution_count": 272
  },
  {
   "metadata": {},
   "cell_type": "markdown",
   "source": "#### Data encoding",
   "id": "66557c17cb1ed13e"
  },
  {
   "metadata": {
    "ExecuteTime": {
     "end_time": "2025-10-13T18:24:26.266130Z",
     "start_time": "2025-10-13T18:24:26.254103Z"
    }
   },
   "cell_type": "code",
   "source": "df_encoded = pd.get_dummies(DataFrame, columns=['material', 'infill_pattern'], drop_first=True)",
   "id": "376f87a1884a0d25",
   "outputs": [],
   "execution_count": 273
  },
  {
   "metadata": {
    "ExecuteTime": {
     "end_time": "2025-10-13T18:24:26.292202Z",
     "start_time": "2025-10-13T18:24:26.282144Z"
    }
   },
   "cell_type": "code",
   "source": "df_encoded.columns",
   "id": "41f8fb3ea3884a38",
   "outputs": [
    {
     "data": {
      "text/plain": [
       "Index(['layer_height', 'wall_thickness', 'infill_density',\n",
       "       'nozzle_temperature', 'bed_temperature', 'print_speed', 'fan_speed',\n",
       "       'roughness', 'tension_strenght', 'elongation', 'material_pla',\n",
       "       'infill_pattern_honeycomb'],\n",
       "      dtype='object')"
      ]
     },
     "execution_count": 274,
     "metadata": {},
     "output_type": "execute_result"
    }
   ],
   "execution_count": 274
  },
  {
   "metadata": {
    "ExecuteTime": {
     "end_time": "2025-10-13T18:24:26.351759Z",
     "start_time": "2025-10-13T18:24:26.344131Z"
    }
   },
   "cell_type": "code",
   "source": [
    "\n",
    "x = df_encoded.drop(['material_pla'], axis=1)\n",
    "y = df_encoded['material_pla']"
   ],
   "id": "ce79e5366fa9731d",
   "outputs": [],
   "execution_count": 275
  },
  {
   "metadata": {
    "ExecuteTime": {
     "end_time": "2025-10-13T18:24:26.385355Z",
     "start_time": "2025-10-13T18:24:26.366362Z"
    }
   },
   "cell_type": "code",
   "source": [
    "\n",
    "corr_matrix = df_encoded.corr(numeric_only=True)\n",
    "print(corr_matrix)"
   ],
   "id": "724a986fa0b95c90",
   "outputs": [
    {
     "name": "stdout",
     "output_type": "stream",
     "text": [
      "                          layer_height  wall_thickness  infill_density  \\\n",
      "layer_height                  1.000000       -0.282933       -0.013763   \n",
      "wall_thickness               -0.282933        1.000000        0.025534   \n",
      "infill_density               -0.013763        0.025534        1.000000   \n",
      "nozzle_temperature           -0.030562       -0.130299        0.213167   \n",
      "bed_temperature              -0.100945        0.053258        0.092124   \n",
      "print_speed                   0.040266       -0.285087       -0.128294   \n",
      "fan_speed                    -0.040571        0.050462        0.035763   \n",
      "roughness                     0.773096       -0.240834        0.037378   \n",
      "tension_strenght              0.325276        0.336492        0.278869   \n",
      "elongation                    0.482438        0.150234        0.118003   \n",
      "material_pla                  0.041406        0.150562       -0.099981   \n",
      "infill_pattern_honeycomb     -0.008872        0.224150       -0.183799   \n",
      "\n",
      "                          nozzle_temperature  bed_temperature  print_speed  \\\n",
      "layer_height                       -0.030562        -0.100945     0.040266   \n",
      "wall_thickness                     -0.130299         0.053258    -0.285087   \n",
      "infill_density                      0.213167         0.092124    -0.128294   \n",
      "nozzle_temperature                  1.000000         0.568032     0.019835   \n",
      "bed_temperature                     0.568032         1.000000    -0.048615   \n",
      "print_speed                         0.019835        -0.048615     1.000000   \n",
      "fan_speed                           0.580967         0.947155     0.004623   \n",
      "roughness                           0.302494         0.135009     0.211451   \n",
      "tension_strenght                   -0.392501        -0.255851    -0.174099   \n",
      "elongation                         -0.524996        -0.326430    -0.207975   \n",
      "material_pla                       -0.717454        -0.036636    -0.047887   \n",
      "infill_pattern_honeycomb           -0.126035        -0.038819     0.052003   \n",
      "\n",
      "                          fan_speed  roughness  tension_strenght  elongation  \\\n",
      "layer_height              -0.040571   0.773096          0.325276    0.482438   \n",
      "wall_thickness             0.050462  -0.240834          0.336492    0.150234   \n",
      "infill_density             0.035763   0.037378          0.278869    0.118003   \n",
      "nozzle_temperature         0.580967   0.302494         -0.392501   -0.524996   \n",
      "bed_temperature            0.947155   0.135009         -0.255851   -0.326430   \n",
      "print_speed                0.004623   0.211451         -0.174099   -0.207975   \n",
      "fan_speed                  1.000000   0.202488         -0.299644   -0.347389   \n",
      "roughness                  0.202488   1.000000          0.038829    0.073683   \n",
      "tension_strenght          -0.299644   0.038829          1.000000    0.834834   \n",
      "elongation                -0.347389   0.073683          0.834834    1.000000   \n",
      "material_pla              -0.023881  -0.185300          0.350778    0.456415   \n",
      "infill_pattern_honeycomb  -0.021339   0.006848          0.107039    0.074120   \n",
      "\n",
      "                          material_pla  infill_pattern_honeycomb  \n",
      "layer_height                  0.041406                 -0.008872  \n",
      "wall_thickness                0.150562                  0.224150  \n",
      "infill_density               -0.099981                 -0.183799  \n",
      "nozzle_temperature           -0.717454                 -0.126035  \n",
      "bed_temperature              -0.036636                 -0.038819  \n",
      "print_speed                  -0.047887                  0.052003  \n",
      "fan_speed                    -0.023881                 -0.021339  \n",
      "roughness                    -0.185300                  0.006848  \n",
      "tension_strenght              0.350778                  0.107039  \n",
      "elongation                    0.456415                  0.074120  \n",
      "material_pla                  1.000000                  0.154983  \n",
      "infill_pattern_honeycomb      0.154983                  1.000000  \n"
     ]
    }
   ],
   "execution_count": 276
  },
  {
   "metadata": {
    "ExecuteTime": {
     "end_time": "2025-10-13T18:24:26.999509Z",
     "start_time": "2025-10-13T18:24:26.429469Z"
    }
   },
   "cell_type": "code",
   "source": [
    "model = RandomForestClassifier()\n",
    "model.fit(x, y)\n",
    "imp = model.feature_importances_\n",
    "title = x.columns\n",
    "Top_features = pd.Series(imp,index=title).sort_values(ascending=False)\n",
    "\n",
    "plt.figure(figsize=(5,4))\n",
    "sns.barplot(x=Top_features.values, y=Top_features.index, color='skyblue')\n",
    "plt.ylabel('Features')\n",
    "plt.show()"
   ],
   "id": "7f666ae3641b93d",
   "outputs": [
    {
     "data": {
      "text/plain": [
       "<Figure size 500x400 with 1 Axes>"
      ],
      "image/png": "[encoded data removed]"
     },
     "metadata": {},
     "output_type": "display_data",
     "jetTransient": {
      "display_id": null
     }
    }
   ],
   "execution_count": 277
  },
  {
   "metadata": {
    "ExecuteTime": {
     "end_time": "2025-10-13T18:24:27.034843Z",
     "start_time": "2025-10-13T18:24:27.025543Z"
    }
   },
   "cell_type": "code",
   "source": "x_train, x_test, y_train, y_test = train_test_split(x, y, test_size=0.2, random_state=42)",
   "id": "9041e185bfeee527",
   "outputs": [],
   "execution_count": 278
  },
  {
   "metadata": {},
   "cell_type": "markdown",
   "source": "##### Data scaling",
   "id": "1a4a0d82315f8b78"
  },
  {
   "metadata": {
    "ExecuteTime": {
     "end_time": "2025-10-13T18:24:27.065017Z",
     "start_time": "2025-10-13T18:24:27.050487Z"
    }
   },
   "cell_type": "code",
   "source": [
    "## normalizing the data\n",
    "scaler = MinMaxScaler()\n",
    "x_train_scaled = scaler.fit_transform(x_train)\n",
    "x_test_scaled = scaler.transform(x_test)"
   ],
   "id": "a73ceca176afc0c6",
   "outputs": [],
   "execution_count": 279
  },
  {
   "metadata": {},
   "cell_type": "markdown",
   "source": "### Model Building and Evaluation",
   "id": "70afe35b513d88fa"
  },
  {
   "metadata": {
    "ExecuteTime": {
     "end_time": "2025-10-13T18:24:27.525005Z",
     "start_time": "2025-10-13T18:24:27.075599Z"
    }
   },
   "cell_type": "code",
   "source": [
    "\n",
    "\n",
    "lg = LogisticRegression(max_iter=5000, random_state=42,solver='lbfgs')\n",
    "lg.fit(x_train_scaled, y_train)\n",
    "y_pred_lg= lg.predict(x_test_scaled)\n",
    "\n",
    "cv_scores = cross_val_score(lg, x, y, cv=3, scoring='accuracy')\n",
    "print(f\"Mean CV Accuracy  and standard deviation :{cv_scores.mean()} + {cv_scores.std()}\")\n",
    "print(\"Train Accuracy: \",accuracy_score(y_train, lg.predict(x_train_scaled)))\n",
    "print(\"Test Accuracy:\",accuracy_score(y_test, y_pred_lg))\n",
    "print()\n",
    "print(\"classificaton report:\\n\",classification_report(y_test,lg.predict(x_test_scaled)))\n",
    "print(\"confusion matrix:\\n\",confusion_matrix(y_test,lg.predict(x_test_scaled)))\n",
    "print(\"Accuracy:\\n\",accuracy_score(y_test,lg.predict(x_test_scaled)))\n",
    "print(\"Precision:\\n\",precision_score(y_test,lg.predict(x_test_scaled)))\n",
    "print(\"Recall score:\\n\",recall_score(y_test,lg.predict(x_test_scaled)))\n"
   ],
   "id": "7032db57b2b81d14",
   "outputs": [
    {
     "name": "stdout",
     "output_type": "stream",
     "text": [
      "Mean CV Accuracy  and standard deviation :0.9242424242424243 + 0.0214274782177742\n",
      "Train Accuracy:  0.9423076923076923\n",
      "Test Accuracy: 0.9285714285714286\n",
      "\n",
      "classificaton report:\n",
      "               precision    recall  f1-score   support\n",
      "\n",
      "       False       1.00      0.89      0.94         9\n",
      "        True       0.83      1.00      0.91         5\n",
      "\n",
      "    accuracy                           0.93        14\n",
      "   macro avg       0.92      0.94      0.93        14\n",
      "weighted avg       0.94      0.93      0.93        14\n",
      "\n",
      "confusion matrix:\n",
      " [[8 1]\n",
      " [0 5]]\n",
      "Accuracy:\n",
      " 0.9285714285714286\n",
      "Precision:\n",
      " 0.8333333333333334\n",
      "Recall score:\n",
      " 1.0\n"
     ]
    }
   ],
   "execution_count": 280
  },
  {
   "metadata": {
    "ExecuteTime": {
     "end_time": "2025-10-13T18:25:12.377156Z",
     "start_time": "2025-10-13T18:24:27.544369Z"
    }
   },
   "cell_type": "code",
   "source": [
    "rf = RandomForestClassifier(random_state=42)\n",
    "\n",
    "# Parameter grid for randomized search\n",
    "param_rf = {\n",
    "    'n_estimators': [100, 200, 300, 400,500],\n",
    "    'max_depth': [2, 4, 5, 6,None],\n",
    "    'min_samples_split': [2, 3, 4],\n",
    "    'min_samples_leaf': [1, 2, 3],\n",
    "    'max_features': ['sqrt', 'log2',None]\n",
    "}\n",
    "\n",
    "# RandomizedSearchCV\n",
    "random_rf = RandomizedSearchCV(\n",
    "    estimator=rf,\n",
    "    param_distributions=param_rf,\n",
    "    n_iter=70,           # number of random combinations to try\n",
    "    scoring='accuracy',\n",
    "    cv=3,\n",
    "    n_jobs=-1,\n",
    "    random_state=42,\n",
    "    verbose=1\n",
    ")\n",
    "\n",
    "# Fit the model\n",
    "random_rf.fit(x_train, y_train)\n"
   ],
   "id": "df69b749342b04e8",
   "outputs": [
    {
     "name": "stdout",
     "output_type": "stream",
     "text": [
      "Fitting 3 folds for each of 70 candidates, totalling 210 fits\n"
     ]
    },
    {
     "data": {
      "text/plain": [
       "RandomizedSearchCV(cv=3, estimator=RandomForestClassifier(random_state=42),\n",
       "                   n_iter=70, n_jobs=-1,\n",
       "                   param_distributions={'max_depth': [2, 4, 5, 6, None],\n",
       "                                        'max_features': ['sqrt', 'log2', None],\n",
       "                                        'min_samples_leaf': [1, 2, 3],\n",
       "                                        'min_samples_split': [2, 3, 4],\n",
       "                                        'n_estimators': [100, 200, 300, 400,\n",
       "                                                         500]},\n",
       "                   random_state=42, scoring='accuracy', verbose=1)"
      ],
      "text/html": [
       "<style>#sk-container-id-3 {\n",
       "  /* Definition of color scheme common for light and dark mode */\n",
       "  --sklearn-color-text: black;\n",
       "  --sklearn-color-line: gray;\n",
       "  /* Definition of color scheme for unfitted estimators */\n",
       "  --sklearn-color-unfitted-level-0: #fff5e6;\n",
       "  --sklearn-color-unfitted-level-1: #f6e4d2;\n",
       "  --sklearn-color-unfitted-level-2: #ffe0b3;\n",
       "  --sklearn-color-unfitted-level-3: chocolate;\n",
       "  /* Definition of color scheme for fitted estimators */\n",
       "  --sklearn-color-fitted-level-0: #f0f8ff;\n",
       "  --sklearn-color-fitted-level-1: #d4ebff;\n",
       "  --sklearn-color-fitted-level-2: #b3dbfd;\n",
       "  --sklearn-color-fitted-level-3: cornflowerblue;\n",
       "\n",
       "  /* Specific color for light theme */\n",
       "  --sklearn-color-text-on-default-background: var(--sg-text-color, var(--theme-code-foreground, var(--jp-content-font-color1, black)));\n",
       "  --sklearn-color-background: var(--sg-background-color, var(--theme-background, var(--jp-layout-color0, white)));\n",
       "  --sklearn-color-border-box: var(--sg-text-color, var(--theme-code-foreground, var(--jp-content-font-color1, black)));\n",
       "  --sklearn-color-icon: #696969;\n",
       "\n",
       "  @media (prefers-color-scheme: dark) {\n",
       "    /* Redefinition of color scheme for dark theme */\n",
       "    --sklearn-color-text-on-default-background: var(--sg-text-color, var(--theme-code-foreground, var(--jp-content-font-color1, white)));\n",
       "    --sklearn-color-background: var(--sg-background-color, var(--theme-background, var(--jp-layout-color0, #111)));\n",
       "    --sklearn-color-border-box: var(--sg-text-color, var(--theme-code-foreground, var(--jp-content-font-color1, white)));\n",
       "    --sklearn-color-icon: #878787;\n",
       "  }\n",
       "}\n",
       "\n",
       "#sk-container-id-3 {\n",
       "  color: var(--sklearn-color-text);\n",
       "}\n",
       "\n",
       "#sk-container-id-3 pre {\n",
       "  padding: 0;\n",
       "}\n",
       "\n",
       "#sk-container-id-3 input.sk-hidden--visually {\n",
       "  border: 0;\n",
       "  clip: rect(1px 1px 1px 1px);\n",
       "  clip: rect(1px, 1px, 1px, 1px);\n",
       "  height: 1px;\n",
       "  margin: -1px;\n",
       "  overflow: hidden;\n",
       "  padding: 0;\n",
       "  position: absolute;\n",
       "  width: 1px;\n",
       "}\n",
       "\n",
       "#sk-container-id-3 div.sk-dashed-wrapped {\n",
       "  border: 1px dashed var(--sklearn-color-line);\n",
       "  margin: 0 0.4em 0.5em 0.4em;\n",
       "  box-sizing: border-box;\n",
       "  padding-bottom: 0.4em;\n",
       "  background-color: var(--sklearn-color-background);\n",
       "}\n",
       "\n",
       "#sk-container-id-3 div.sk-container {\n",
       "  /* jupyter's `normalize.less` sets `[hidden] { display: none; }`\n",
       "     but bootstrap.min.css set `[hidden] { display: none !important; }`\n",
       "     so we also need the `!important` here to be able to override the\n",
       "     default hidden behavior on the sphinx rendered scikit-learn.org.\n",
       "     See: https://github.com/scikit-learn/scikit-learn/issues/21755 */\n",
       "  display: inline-block !important;\n",
       "  position: relative;\n",
       "}\n",
       "\n",
       "#sk-container-id-3 div.sk-text-repr-fallback {\n",
       "  display: none;\n",
       "}\n",
       "\n",
       "div.sk-parallel-item,\n",
       "div.sk-serial,\n",
       "div.sk-item {\n",
       "  /* draw centered vertical line to link estimators */\n",
       "  background-image: linear-gradient(var(--sklearn-color-text-on-default-background), var(--sklearn-color-text-on-default-background));\n",
       "  background-size: 2px 100%;\n",
       "  background-repeat: no-repeat;\n",
       "  background-position: center center;\n",
       "}\n",
       "\n",
       "/* Parallel-specific style estimator block */\n",
       "\n",
       "#sk-container-id-3 div.sk-parallel-item::after {\n",
       "  content: \"\";\n",
       "  width: 100%;\n",
       "  border-bottom: 2px solid var(--sklearn-color-text-on-default-background);\n",
       "  flex-grow: 1;\n",
       "}\n",
       "\n",
       "#sk-container-id-3 div.sk-parallel {\n",
       "  display: flex;\n",
       "  align-items: stretch;\n",
       "  justify-content: center;\n",
       "  background-color: var(--sklearn-color-background);\n",
       "  position: relative;\n",
       "}\n",
       "\n",
       "#sk-container-id-3 div.sk-parallel-item {\n",
       "  display: flex;\n",
       "  flex-direction: column;\n",
       "}\n",
       "\n",
       "#sk-container-id-3 div.sk-parallel-item:first-child::after {\n",
       "  align-self: flex-end;\n",
       "  width: 50%;\n",
       "}\n",
       "\n",
       "#sk-container-id-3 div.sk-parallel-item:last-child::after {\n",
       "  align-self: flex-start;\n",
       "  width: 50%;\n",
       "}\n",
       "\n",
       "#sk-container-id-3 div.sk-parallel-item:only-child::after {\n",
       "  width: 0;\n",
       "}\n",
       "\n",
       "/* Serial-specific style estimator block */\n",
       "\n",
       "#sk-container-id-3 div.sk-serial {\n",
       "  display: flex;\n",
       "  flex-direction: column;\n",
       "  align-items: center;\n",
       "  background-color: var(--sklearn-color-background);\n",
       "  padding-right: 1em;\n",
       "  padding-left: 1em;\n",
       "}\n",
       "\n",
       "\n",
       "/* Toggleable style: style used for estimator/Pipeline/ColumnTransformer box that is\n",
       "clickable and can be expanded/collapsed.\n",
       "- Pipeline and ColumnTransformer use this feature and define the default style\n",
       "- Estimators will overwrite some part of the style using the `sk-estimator` class\n",
       "*/\n",
       "\n",
       "/* Pipeline and ColumnTransformer style (default) */\n",
       "\n",
       "#sk-container-id-3 div.sk-toggleable {\n",
       "  /* Default theme specific background. It is overwritten whether we have a\n",
       "  specific estimator or a Pipeline/ColumnTransformer */\n",
       "  background-color: var(--sklearn-color-background);\n",
       "}\n",
       "\n",
       "/* Toggleable label */\n",
       "#sk-container-id-3 label.sk-toggleable__label {\n",
       "  cursor: pointer;\n",
       "  display: block;\n",
       "  width: 100%;\n",
       "  margin-bottom: 0;\n",
       "  padding: 0.5em;\n",
       "  box-sizing: border-box;\n",
       "  text-align: center;\n",
       "}\n",
       "\n",
       "#sk-container-id-3 label.sk-toggleable__label-arrow:before {\n",
       "  /* Arrow on the left of the label */\n",
       "  content: \"▸\";\n",
       "  float: left;\n",
       "  margin-right: 0.25em;\n",
       "  color: var(--sklearn-color-icon);\n",
       "}\n",
       "\n",
       "#sk-container-id-3 label.sk-toggleable__label-arrow:hover:before {\n",
       "  color: var(--sklearn-color-text);\n",
       "}\n",
       "\n",
       "/* Toggleable content - dropdown */\n",
       "\n",
       "#sk-container-id-3 div.sk-toggleable__content {\n",
       "  max-height: 0;\n",
       "  max-width: 0;\n",
       "  overflow: hidden;\n",
       "  text-align: left;\n",
       "  /* unfitted */\n",
       "  background-color: var(--sklearn-color-unfitted-level-0);\n",
       "}\n",
       "\n",
       "#sk-container-id-3 div.sk-toggleable__content.fitted {\n",
       "  /* fitted */\n",
       "  background-color: var(--sklearn-color-fitted-level-0);\n",
       "}\n",
       "\n",
       "#sk-container-id-3 div.sk-toggleable__content pre {\n",
       "  margin: 0.2em;\n",
       "  border-radius: 0.25em;\n",
       "  color: var(--sklearn-color-text);\n",
       "  /* unfitted */\n",
       "  background-color: var(--sklearn-color-unfitted-level-0);\n",
       "}\n",
       "\n",
       "#sk-container-id-3 div.sk-toggleable__content.fitted pre {\n",
       "  /* unfitted */\n",
       "  background-color: var(--sklearn-color-fitted-level-0);\n",
       "}\n",
       "\n",
       "#sk-container-id-3 input.sk-toggleable__control:checked~div.sk-toggleable__content {\n",
       "  /* Expand drop-down */\n",
       "  max-height: 200px;\n",
       "  max-width: 100%;\n",
       "  overflow: auto;\n",
       "}\n",
       "\n",
       "#sk-container-id-3 input.sk-toggleable__control:checked~label.sk-toggleable__label-arrow:before {\n",
       "  content: \"▾\";\n",
       "}\n",
       "\n",
       "/* Pipeline/ColumnTransformer-specific style */\n",
       "\n",
       "#sk-container-id-3 div.sk-label input.sk-toggleable__control:checked~label.sk-toggleable__label {\n",
       "  color: var(--sklearn-color-text);\n",
       "  background-color: var(--sklearn-color-unfitted-level-2);\n",
       "}\n",
       "\n",
       "#sk-container-id-3 div.sk-label.fitted input.sk-toggleable__control:checked~label.sk-toggleable__label {\n",
       "  background-color: var(--sklearn-color-fitted-level-2);\n",
       "}\n",
       "\n",
       "/* Estimator-specific style */\n",
       "\n",
       "/* Colorize estimator box */\n",
       "#sk-container-id-3 div.sk-estimator input.sk-toggleable__control:checked~label.sk-toggleable__label {\n",
       "  /* unfitted */\n",
       "  background-color: var(--sklearn-color-unfitted-level-2);\n",
       "}\n",
       "\n",
       "#sk-container-id-3 div.sk-estimator.fitted input.sk-toggleable__control:checked~label.sk-toggleable__label {\n",
       "  /* fitted */\n",
       "  background-color: var(--sklearn-color-fitted-level-2);\n",
       "}\n",
       "\n",
       "#sk-container-id-3 div.sk-label label.sk-toggleable__label,\n",
       "#sk-container-id-3 div.sk-label label {\n",
       "  /* The background is the default theme color */\n",
       "  color: var(--sklearn-color-text-on-default-background);\n",
       "}\n",
       "\n",
       "/* On hover, darken the color of the background */\n",
       "#sk-container-id-3 div.sk-label:hover label.sk-toggleable__label {\n",
       "  color: var(--sklearn-color-text);\n",
       "  background-color: var(--sklearn-color-unfitted-level-2);\n",
       "}\n",
       "\n",
       "/* Label box, darken color on hover, fitted */\n",
       "#sk-container-id-3 div.sk-label.fitted:hover label.sk-toggleable__label.fitted {\n",
       "  color: var(--sklearn-color-text);\n",
       "  background-color: var(--sklearn-color-fitted-level-2);\n",
       "}\n",
       "\n",
       "/* Estimator label */\n",
       "\n",
       "#sk-container-id-3 div.sk-label label {\n",
       "  font-family: monospace;\n",
       "  font-weight: bold;\n",
       "  display: inline-block;\n",
       "  line-height: 1.2em;\n",
       "}\n",
       "\n",
       "#sk-container-id-3 div.sk-label-container {\n",
       "  text-align: center;\n",
       "}\n",
       "\n",
       "/* Estimator-specific */\n",
       "#sk-container-id-3 div.sk-estimator {\n",
       "  font-family: monospace;\n",
       "  border: 1px dotted var(--sklearn-color-border-box);\n",
       "  border-radius: 0.25em;\n",
       "  box-sizing: border-box;\n",
       "  margin-bottom: 0.5em;\n",
       "  /* unfitted */\n",
       "  background-color: var(--sklearn-color-unfitted-level-0);\n",
       "}\n",
       "\n",
       "#sk-container-id-3 div.sk-estimator.fitted {\n",
       "  /* fitted */\n",
       "  background-color: var(--sklearn-color-fitted-level-0);\n",
       "}\n",
       "\n",
       "/* on hover */\n",
       "#sk-container-id-3 div.sk-estimator:hover {\n",
       "  /* unfitted */\n",
       "  background-color: var(--sklearn-color-unfitted-level-2);\n",
       "}\n",
       "\n",
       "#sk-container-id-3 div.sk-estimator.fitted:hover {\n",
       "  /* fitted */\n",
       "  background-color: var(--sklearn-color-fitted-level-2);\n",
       "}\n",
       "\n",
       "/* Specification for estimator info (e.g. \"i\" and \"?\") */\n",
       "\n",
       "/* Common style for \"i\" and \"?\" */\n",
       "\n",
       ".sk-estimator-doc-link,\n",
       "a:link.sk-estimator-doc-link,\n",
       "a:visited.sk-estimator-doc-link {\n",
       "  float: right;\n",
       "  font-size: smaller;\n",
       "  line-height: 1em;\n",
       "  font-family: monospace;\n",
       "  background-color: var(--sklearn-color-background);\n",
       "  border-radius: 1em;\n",
       "  height: 1em;\n",
       "  width: 1em;\n",
       "  text-decoration: none !important;\n",
       "  margin-left: 1ex;\n",
       "  /* unfitted */\n",
       "  border: var(--sklearn-color-unfitted-level-1) 1pt solid;\n",
       "  color: var(--sklearn-color-unfitted-level-1);\n",
       "}\n",
       "\n",
       ".sk-estimator-doc-link.fitted,\n",
       "a:link.sk-estimator-doc-link.fitted,\n",
       "a:visited.sk-estimator-doc-link.fitted {\n",
       "  /* fitted */\n",
       "  border: var(--sklearn-color-fitted-level-1) 1pt solid;\n",
       "  color: var(--sklearn-color-fitted-level-1);\n",
       "}\n",
       "\n",
       "/* On hover */\n",
       "div.sk-estimator:hover .sk-estimator-doc-link:hover,\n",
       ".sk-estimator-doc-link:hover,\n",
       "div.sk-label-container:hover .sk-estimator-doc-link:hover,\n",
       ".sk-estimator-doc-link:hover {\n",
       "  /* unfitted */\n",
       "  background-color: var(--sklearn-color-unfitted-level-3);\n",
       "  color: var(--sklearn-color-background);\n",
       "  text-decoration: none;\n",
       "}\n",
       "\n",
       "div.sk-estimator.fitted:hover .sk-estimator-doc-link.fitted:hover,\n",
       ".sk-estimator-doc-link.fitted:hover,\n",
       "div.sk-label-container:hover .sk-estimator-doc-link.fitted:hover,\n",
       ".sk-estimator-doc-link.fitted:hover {\n",
       "  /* fitted */\n",
       "  background-color: var(--sklearn-color-fitted-level-3);\n",
       "  color: var(--sklearn-color-background);\n",
       "  text-decoration: none;\n",
       "}\n",
       "\n",
       "/* Span, style for the box shown on hovering the info icon */\n",
       ".sk-estimator-doc-link span {\n",
       "  display: none;\n",
       "  z-index: 9999;\n",
       "  position: relative;\n",
       "  font-weight: normal;\n",
       "  right: .2ex;\n",
       "  padding: .5ex;\n",
       "  margin: .5ex;\n",
       "  width: min-content;\n",
       "  min-width: 20ex;\n",
       "  max-width: 50ex;\n",
       "  color: var(--sklearn-color-text);\n",
       "  box-shadow: 2pt 2pt 4pt #999;\n",
       "  /* unfitted */\n",
       "  background: var(--sklearn-color-unfitted-level-0);\n",
       "  border: .5pt solid var(--sklearn-color-unfitted-level-3);\n",
       "}\n",
       "\n",
       ".sk-estimator-doc-link.fitted span {\n",
       "  /* fitted */\n",
       "  background: var(--sklearn-color-fitted-level-0);\n",
       "  border: var(--sklearn-color-fitted-level-3);\n",
       "}\n",
       "\n",
       ".sk-estimator-doc-link:hover span {\n",
       "  display: block;\n",
       "}\n",
       "\n",
       "/* \"?\"-specific style due to the `<a>` HTML tag */\n",
       "\n",
       "#sk-container-id-3 a.estimator_doc_link {\n",
       "  float: right;\n",
       "  font-size: 1rem;\n",
       "  line-height: 1em;\n",
       "  font-family: monospace;\n",
       "  background-color: var(--sklearn-color-background);\n",
       "  border-radius: 1rem;\n",
       "  height: 1rem;\n",
       "  width: 1rem;\n",
       "  text-decoration: none;\n",
       "  /* unfitted */\n",
       "  color: var(--sklearn-color-unfitted-level-1);\n",
       "  border: var(--sklearn-color-unfitted-level-1) 1pt solid;\n",
       "}\n",
       "\n",
       "#sk-container-id-3 a.estimator_doc_link.fitted {\n",
       "  /* fitted */\n",
       "  border: var(--sklearn-color-fitted-level-1) 1pt solid;\n",
       "  color: var(--sklearn-color-fitted-level-1);\n",
       "}\n",
       "\n",
       "/* On hover */\n",
       "#sk-container-id-3 a.estimator_doc_link:hover {\n",
       "  /* unfitted */\n",
       "  background-color: var(--sklearn-color-unfitted-level-3);\n",
       "  color: var(--sklearn-color-background);\n",
       "  text-decoration: none;\n",
       "}\n",
       "\n",
       "#sk-container-id-3 a.estimator_doc_link.fitted:hover {\n",
       "  /* fitted */\n",
       "  background-color: var(--sklearn-color-fitted-level-3);\n",
       "}\n",
       "</style><div id=\"sk-container-id-3\" class=\"sk-top-container\"><div class=\"sk-text-repr-fallback\"><pre>RandomizedSearchCV(cv=3, estimator=RandomForestClassifier(random_state=42),\n",
       "                   n_iter=70, n_jobs=-1,\n",
       "                   param_distributions={&#x27;max_depth&#x27;: [2, 4, 5, 6, None],\n",
       "                                        &#x27;max_features&#x27;: [&#x27;sqrt&#x27;, &#x27;log2&#x27;, None],\n",
       "                                        &#x27;min_samples_leaf&#x27;: [1, 2, 3],\n",
       "                                        &#x27;min_samples_split&#x27;: [2, 3, 4],\n",
       "                                        &#x27;n_estimators&#x27;: [100, 200, 300, 400,\n",
       "                                                         500]},\n",
       "                   random_state=42, scoring=&#x27;accuracy&#x27;, verbose=1)</pre><b>In a Jupyter environment, please rerun this cell to show the HTML representation or trust the notebook. <br />On GitHub, the HTML representation is unable to render, please try loading this page with nbviewer.org.</b></div><div class=\"sk-container\" hidden><div class=\"sk-item sk-dashed-wrapped\"><div class=\"sk-label-container\"><div class=\"sk-label fitted sk-toggleable\"><input class=\"sk-toggleable__control sk-hidden--visually\" id=\"sk-estimator-id-7\" type=\"checkbox\" ><label for=\"sk-estimator-id-7\" class=\"sk-toggleable__label fitted sk-toggleable__label-arrow fitted\">&nbsp;&nbsp;RandomizedSearchCV<a class=\"sk-estimator-doc-link fitted\" rel=\"noreferrer\" target=\"_blank\" href=\"https://scikit-learn.org/1.4/modules/generated/sklearn.model_selection.RandomizedSearchCV.html\">?<span>Documentation for RandomizedSearchCV</span></a><span class=\"sk-estimator-doc-link fitted\">i<span>Fitted</span></span></label><div class=\"sk-toggleable__content fitted\"><pre>RandomizedSearchCV(cv=3, estimator=RandomForestClassifier(random_state=42),\n",
       "                   n_iter=70, n_jobs=-1,\n",
       "                   param_distributions={&#x27;max_depth&#x27;: [2, 4, 5, 6, None],\n",
       "                                        &#x27;max_features&#x27;: [&#x27;sqrt&#x27;, &#x27;log2&#x27;, None],\n",
       "                                        &#x27;min_samples_leaf&#x27;: [1, 2, 3],\n",
       "                                        &#x27;min_samples_split&#x27;: [2, 3, 4],\n",
       "                                        &#x27;n_estimators&#x27;: [100, 200, 300, 400,\n",
       "                                                         500]},\n",
       "                   random_state=42, scoring=&#x27;accuracy&#x27;, verbose=1)</pre></div> </div></div><div class=\"sk-parallel\"><div class=\"sk-parallel-item\"><div class=\"sk-item\"><div class=\"sk-label-container\"><div class=\"sk-label fitted sk-toggleable\"><input class=\"sk-toggleable__control sk-hidden--visually\" id=\"sk-estimator-id-8\" type=\"checkbox\" ><label for=\"sk-estimator-id-8\" class=\"sk-toggleable__label fitted sk-toggleable__label-arrow fitted\">estimator: RandomForestClassifier</label><div class=\"sk-toggleable__content fitted\"><pre>RandomForestClassifier(random_state=42)</pre></div> </div></div><div class=\"sk-serial\"><div class=\"sk-item\"><div class=\"sk-estimator fitted sk-toggleable\"><input class=\"sk-toggleable__control sk-hidden--visually\" id=\"sk-estimator-id-9\" type=\"checkbox\" ><label for=\"sk-estimator-id-9\" class=\"sk-toggleable__label fitted sk-toggleable__label-arrow fitted\">&nbsp;RandomForestClassifier<a class=\"sk-estimator-doc-link fitted\" rel=\"noreferrer\" target=\"_blank\" href=\"https://scikit-learn.org/1.4/modules/generated/sklearn.ensemble.RandomForestClassifier.html\">?<span>Documentation for RandomForestClassifier</span></a></label><div class=\"sk-toggleable__content fitted\"><pre>RandomForestClassifier(random_state=42)</pre></div> </div></div></div></div></div></div></div></div></div>"
      ]
     },
     "execution_count": 281,
     "metadata": {},
     "output_type": "execute_result"
    }
   ],
   "execution_count": 281
  },
  {
   "metadata": {
    "ExecuteTime": {
     "end_time": "2025-10-13T18:27:43.413834Z",
     "start_time": "2025-10-13T18:25:12.663855Z"
    }
   },
   "cell_type": "code",
   "source": [
    "cv_scores = cross_val_score(random_rf, x, y, cv=3, scoring='accuracy')\n",
    "print(f\"Mean CV Accuracy and standard deviation: {cv_scores.mean():.4f} + {cv_scores.std():.4f}\")\n",
    "\n",
    "# Predictions\n",
    "y_pred_train = random_rf.predict(x_train)\n",
    "y_pred_test = random_rf.predict(x_test)\n",
    "\n",
    "# Train/Test Accuracy\n",
    "print(\"Train Accuracy:\", accuracy_score(y_train, y_pred_train))\n",
    "print(\"Test Accuracy:\", accuracy_score(y_test, y_pred_test))\n",
    "print()\n",
    "\n",
    "# Detailed metrics\n",
    "print(\"Classification Report:\\n\", classification_report(y_test, y_pred_test))\n",
    "print(\"Confusion Matrix:\\n\", confusion_matrix(y_test, y_pred_test))\n",
    "print(\"Accuracy:\", accuracy_score(y_test, y_pred_test))\n",
    "print(\"Precision:\", precision_score(y_test, y_pred_test, average='binary'))\n",
    "print(\"Recall Score:\", recall_score(y_test, y_pred_test, average='binary'))"
   ],
   "id": "573c01968abe79ce",
   "outputs": [
    {
     "name": "stdout",
     "output_type": "stream",
     "text": [
      "Fitting 3 folds for each of 70 candidates, totalling 210 fits\n",
      "Fitting 3 folds for each of 70 candidates, totalling 210 fits\n",
      "Fitting 3 folds for each of 70 candidates, totalling 210 fits\n",
      "Mean CV Accuracy and standard deviation: 0.8788 + 0.0857\n",
      "Train Accuracy: 0.9230769230769231\n",
      "Test Accuracy: 0.8571428571428571\n",
      "\n",
      "Classification Report:\n",
      "               precision    recall  f1-score   support\n",
      "\n",
      "       False       1.00      0.78      0.88         9\n",
      "        True       0.71      1.00      0.83         5\n",
      "\n",
      "    accuracy                           0.86        14\n",
      "   macro avg       0.86      0.89      0.85        14\n",
      "weighted avg       0.90      0.86      0.86        14\n",
      "\n",
      "Confusion Matrix:\n",
      " [[7 2]\n",
      " [0 5]]\n",
      "Accuracy: 0.8571428571428571\n",
      "Precision: 0.7142857142857143\n",
      "Recall Score: 1.0\n"
     ]
    }
   ],
   "execution_count": 282
  },
  {
   "metadata": {
    "ExecuteTime": {
     "end_time": "2025-10-13T18:27:43.889244Z",
     "start_time": "2025-10-13T18:27:43.475464Z"
    }
   },
   "cell_type": "code",
   "source": [
    "model_accuracies= {\"Logistic regression\":accuracy_score(y_test, y_pred_lg),\n",
    "                   \"Random Forest\":accuracy_score(y_test, y_pred_test)}\n",
    "\n",
    "plt.figure(figsize=(8,5))\n",
    "sns.barplot(x=list(model_accuracies.keys()), y=list(model_accuracies.values()), palette=\"viridis\")\n",
    "plt.ylabel(\"Test Accuracy\")\n",
    "plt.ylim(0, 1)\n",
    "plt.title(\"Model Test Accuracy Comparison\")\n",
    "for i, v in enumerate(model_accuracies.values()):\n",
    "    plt.text(i, v + 0.01, f\"{v:.2f}\", ha='center')\n",
    "plt.show()"
   ],
   "id": "6e57606618a98e95",
   "outputs": [
    {
     "data": {
      "text/plain": [
       "<Figure size 800x500 with 1 Axes>"
      ],
      "image/png": "[encoded data removed]"
     },
     "metadata": {},
     "output_type": "display_data",
     "jetTransient": {
      "display_id": null
     }
    }
   ],
   "execution_count": 283
  },
  {
   "metadata": {
    "ExecuteTime": {
     "end_time": "2025-10-13T18:27:43.921242Z",
     "start_time": "2025-10-13T18:27:43.905083Z"
    }
   },
   "cell_type": "code",
   "source": [
    "import joblib\n",
    "joblib.dump(lg,r\"..\\flask\\3d_printer.pkl\")\n",
    "joblib.dump(scaler,r\"..\\flask\\min_max_scaler.pkl\")"
   ],
   "id": "685c7ab79a7c1e44",
   "outputs": [
    {
     "data": {
      "text/plain": [
       "['..\\\\flask\\\\min_max_scaler.pkl']"
      ]
     },
     "execution_count": 284,
     "metadata": {},
     "output_type": "execute_result"
    }
   ],
   "execution_count": 284
  },
  {
   "metadata": {
    "ExecuteTime": {
     "end_time": "2025-10-13T18:27:44.112701Z",
     "start_time": "2025-10-13T18:27:44.077826Z"
    }
   },
   "cell_type": "code",
   "source": [
    "#### Model testing\n",
    "mixed_inputs = [\n",
    "    {'layer_height': 0.06, 'wall_thickness': 6, 'infill_density': 80, 'infill_pattern_honeycomb': 1, 'nozzle_temperature': 220, 'bed_temperature': 60, 'print_speed': 60, 'fan_speed': 0, 'roughness': 75, 'tension_strenght': 37, 'elongation': 2.4},\n",
    "   {'layer_height': 0.02, 'wall_thickness': 8, 'infill_density': 90, 'infill_pattern_honeycomb': 1, 'nozzle_temperature': 220, 'bed_temperature': 60, 'print_speed': 40, 'fan_speed': 0, 'roughness': 25, 'tension_strenght': 18, 'elongation': 1.2},\n",
    "]\n",
    "\n",
    "\n",
    "input_df = pd.DataFrame(mixed_inputs)\n",
    "expected_columns = ['layer_height', 'wall_thickness', 'infill_density', 'nozzle_temperature',\n",
    "                    'bed_temperature', 'print_speed', 'fan_speed', 'roughness',\n",
    "                    'tension_strenght', 'elongation', 'infill_pattern_honeycomb']  # match training\n",
    "input_df = input_df[expected_columns]\n",
    "scaled_features = scaler.transform(input_df)\n",
    "\n",
    "predictions = lg.predict(scaled_features)\n",
    "probabilities = lg.predict_proba(scaled_features)\n",
    "\n",
    "materials = [\"PLA\" if p == 1 else \"ABS\" for p in predictions]\n",
    "\n",
    "result_df = input_df.copy()\n",
    "result_df[\"Predicted Material\"] = materials\n",
    "result_df[\"PLA Probability\"] = probabilities[:, 1].round(3)\n",
    "result_df[\"ABS Probability\"] = probabilities[:, 0].round(3)\n",
    "\n",
    "# Show\n",
    "print(result_df[[\"Predicted Material\", \"PLA Probability\", \"ABS Probability\"]])\n"
   ],
   "id": "19d9c18df89d1bd6",
   "outputs": [
    {
     "name": "stdout",
     "output_type": "stream",
     "text": [
      "  Predicted Material  PLA Probability  ABS Probability\n",
      "0                PLA            0.571            0.429\n",
      "1                ABS            0.383            0.617\n"
     ]
    }
   ],
   "execution_count": 285
  }
 ],
 "metadata": {
  "kernelspec": {
   "display_name": "Python 3",
   "language": "python",
   "name": "python3"
  },
  "language_info": {
   "codemirror_mode": {
    "name": "ipython",
    "version": 2
   },
   "file_extension": ".py",
   "mimetype": "text/x-python",
   "name": "python",
   "nbconvert_exporter": "python",
   "pygments_lexer": "ipython2",
   "version": "2.7.6"
  }
 },
 "nbformat": 4,
 "nbformat_minor": 5
}
